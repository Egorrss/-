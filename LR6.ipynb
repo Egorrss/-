{
 "cells": [
  {
   "cell_type": "markdown",
   "id": "e0aa687e",
   "metadata": {},
   "source": [
    "# Лабораторная работа №6"
   ]
  },
  {
   "cell_type": "markdown",
   "id": "93d46b51",
   "metadata": {},
   "source": [
    "## Задание 1 \n",
    "###### Провести классификацию найденного датасета, методами CatBoost . В формате Markdown написать пояснения. Объяснить почему были выбраны именно такие гиперпараметры, была ли перекрестная проверка, и т.д."
   ]
  },
  {
   "cell_type": "markdown",
   "id": "ae99bea4",
   "metadata": {},
   "source": [
    "датасет: [Homicide Reports, 1980-2014](https://www.kaggle.com/datasets/murderaccountability/homicide-reports)"
   ]
  },
  {
   "cell_type": "markdown",
   "id": "7f17d7ba",
   "metadata": {},
   "source": [
    "### Загрузка Библиотек"
   ]
  },
  {
   "cell_type": "code",
   "execution_count": 1,
   "id": "a6b3b1bb",
   "metadata": {},
   "outputs": [
    {
     "name": "stdout",
     "output_type": "stream",
     "text": [
      "Defaulting to user installation because normal site-packages is not writeable\n",
      "Requirement already satisfied: catboost in c:\\users\\egor\\appdata\\roaming\\python\\python311\\site-packages (1.2.5)\n",
      "Requirement already satisfied: graphviz in c:\\users\\egor\\appdata\\roaming\\python\\python311\\site-packages (from catboost) (0.20.3)\n",
      "Requirement already satisfied: matplotlib in c:\\programdata\\anaconda3\\lib\\site-packages (from catboost) (3.7.1)\n",
      "Requirement already satisfied: numpy>=1.16.0 in c:\\programdata\\anaconda3\\lib\\site-packages (from catboost) (1.24.3)\n",
      "Requirement already satisfied: pandas>=0.24 in c:\\programdata\\anaconda3\\lib\\site-packages (from catboost) (1.5.3)\n",
      "Requirement already satisfied: scipy in c:\\programdata\\anaconda3\\lib\\site-packages (from catboost) (1.10.1)\n",
      "Requirement already satisfied: plotly in c:\\programdata\\anaconda3\\lib\\site-packages (from catboost) (5.9.0)\n",
      "Requirement already satisfied: six in c:\\programdata\\anaconda3\\lib\\site-packages (from catboost) (1.16.0)\n",
      "Requirement already satisfied: python-dateutil>=2.8.1 in c:\\programdata\\anaconda3\\lib\\site-packages (from pandas>=0.24->catboost) (2.8.2)\n",
      "Requirement already satisfied: pytz>=2020.1 in c:\\programdata\\anaconda3\\lib\\site-packages (from pandas>=0.24->catboost) (2022.7)\n",
      "Requirement already satisfied: contourpy>=1.0.1 in c:\\programdata\\anaconda3\\lib\\site-packages (from matplotlib->catboost) (1.0.5)\n",
      "Requirement already satisfied: cycler>=0.10 in c:\\programdata\\anaconda3\\lib\\site-packages (from matplotlib->catboost) (0.11.0)\n",
      "Requirement already satisfied: fonttools>=4.22.0 in c:\\programdata\\anaconda3\\lib\\site-packages (from matplotlib->catboost) (4.25.0)\n",
      "Requirement already satisfied: kiwisolver>=1.0.1 in c:\\programdata\\anaconda3\\lib\\site-packages (from matplotlib->catboost) (1.4.4)\n",
      "Requirement already satisfied: packaging>=20.0 in c:\\programdata\\anaconda3\\lib\\site-packages (from matplotlib->catboost) (23.0)\n",
      "Requirement already satisfied: pillow>=6.2.0 in c:\\programdata\\anaconda3\\lib\\site-packages (from matplotlib->catboost) (9.4.0)\n",
      "Requirement already satisfied: pyparsing>=2.3.1 in c:\\programdata\\anaconda3\\lib\\site-packages (from matplotlib->catboost) (3.0.9)\n",
      "Requirement already satisfied: tenacity>=6.2.0 in c:\\programdata\\anaconda3\\lib\\site-packages (from plotly->catboost) (8.2.2)\n"
     ]
    }
   ],
   "source": [
    "!pip install catboost"
   ]
  },
  {
   "cell_type": "code",
   "execution_count": 2,
   "id": "07de0f00",
   "metadata": {},
   "outputs": [],
   "source": [
    "import pandas as pd\n",
    "import numpy as np\n",
    "from catboost import CatBoostClassifier, Pool, cv\n",
    "from sklearn.model_selection import train_test_split, cross_val_score\n",
    "from sklearn.metrics import accuracy_score, classification_report"
   ]
  },
  {
   "cell_type": "markdown",
   "id": "9a65f3a4",
   "metadata": {},
   "source": [
    "### Загрузка данных и предварительная обработка\n",
    "###### Загрузка данных"
   ]
  },
  {
   "cell_type": "code",
   "execution_count": 3,
   "id": "7ff2ca15",
   "metadata": {},
   "outputs": [],
   "source": [
    "data = pd.read_csv('database.csv',low_memory=False)\n",
    "data = data.dropna() # Заполнение пропущенных значений\n",
    "subset_data = data.sample(n=11000, random_state=42)"
   ]
  },
  {
   "cell_type": "markdown",
   "id": "c9b60960",
   "metadata": {},
   "source": [
    "###### Преобразование категориальных переменных в числовой формат"
   ]
  },
  {
   "cell_type": "code",
   "execution_count": 4,
   "id": "f1e7bdb9",
   "metadata": {},
   "outputs": [],
   "source": [
    "cat_features = ['Agency Name', 'Agency Type', 'City', 'State', 'Month', 'Crime Type', \n",
    "                'Victim Sex', 'Victim Race', 'Victim Ethnicity', 'Perpetrator Sex', \n",
    "                'Perpetrator Race', 'Perpetrator Ethnicity', 'Relationship', 'Weapon']\n",
    "for cat in cat_features:\n",
    "    subset_data[cat] = subset_data[cat].astype('category').cat.codes"
   ]
  },
  {
   "cell_type": "markdown",
   "id": "7be457b5",
   "metadata": {},
   "source": [
    "###### Определение целевой переменной и признаков"
   ]
  },
  {
   "cell_type": "code",
   "execution_count": 5,
   "id": "5cb9cb71",
   "metadata": {},
   "outputs": [],
   "source": [
    "X = subset_data.drop(columns=['Crime Solved', 'Record ID', 'Agency Code', 'Incident', 'Record Source'])\n",
    "y = subset_data['Crime Solved'].astype('category').cat.codes"
   ]
  },
  {
   "cell_type": "markdown",
   "id": "38c0c843",
   "metadata": {},
   "source": [
    "###### Разделение данных на обучающую и тестовую выборки"
   ]
  },
  {
   "cell_type": "code",
   "execution_count": 6,
   "id": "0aaa9911",
   "metadata": {},
   "outputs": [],
   "source": [
    "X_train, X_test, y_train, y_test = train_test_split(X, y, test_size=0.2, random_state=42)"
   ]
  },
  {
   "cell_type": "markdown",
   "id": "663c8f68",
   "metadata": {},
   "source": [
    "### Создание модели CatBoost\n",
    "###### Перебор гиперпараметров не использовался, т.к. занимает очень много времени"
   ]
  },
  {
   "cell_type": "code",
   "execution_count": 7,
   "id": "055386cb",
   "metadata": {},
   "outputs": [],
   "source": [
    "model = CatBoostClassifier(iterations=1000,\n",
    "                           learning_rate=0.1,\n",
    "                           depth=6,\n",
    "                           loss_function='Logloss',\n",
    "                           eval_metric='Accuracy',\n",
    "                           random_seed=42)"
   ]
  },
  {
   "cell_type": "markdown",
   "id": "9ced7d17",
   "metadata": {},
   "source": [
    "###### Обучение модели"
   ]
  },
  {
   "cell_type": "code",
   "execution_count": 8,
   "id": "d749580a",
   "metadata": {},
   "outputs": [
    {
     "data": {
      "text/plain": [
       "<catboost.core.CatBoostClassifier at 0x1bc61936bd0>"
      ]
     },
     "execution_count": 8,
     "metadata": {},
     "output_type": "execute_result"
    }
   ],
   "source": [
    "model.fit(X_train, y_train, cat_features=cat_features, eval_set=(X_test, y_test), verbose=False)"
   ]
  },
  {
   "cell_type": "markdown",
   "id": "4e58d431",
   "metadata": {},
   "source": [
    "### Оценка модели"
   ]
  },
  {
   "cell_type": "code",
   "execution_count": 9,
   "id": "81cf85ab",
   "metadata": {},
   "outputs": [
    {
     "name": "stdout",
     "output_type": "stream",
     "text": [
      "Test Accuracy: 0.9995454545454545\n"
     ]
    }
   ],
   "source": [
    "y_pred = model.predict(X_test)\n",
    "accuracy = accuracy_score(y_test, y_pred)\n",
    "print(f'Test Accuracy: {accuracy}')"
   ]
  },
  {
   "cell_type": "markdown",
   "id": "d74731d5",
   "metadata": {},
   "source": [
    "###### Отчет о классификации"
   ]
  },
  {
   "cell_type": "code",
   "execution_count": 10,
   "id": "7d30bc39",
   "metadata": {},
   "outputs": [
    {
     "name": "stdout",
     "output_type": "stream",
     "text": [
      "              precision    recall  f1-score   support\n",
      "\n",
      "  Not Solved       1.00      1.00      1.00       650\n",
      "      Solved       1.00      1.00      1.00      1550\n",
      "\n",
      "    accuracy                           1.00      2200\n",
      "   macro avg       1.00      1.00      1.00      2200\n",
      "weighted avg       1.00      1.00      1.00      2200\n",
      "\n"
     ]
    }
   ],
   "source": [
    "report = classification_report(y_test, y_pred, target_names=['Not Solved', 'Solved'])\n",
    "print(report)"
   ]
  },
  {
   "cell_type": "code",
   "execution_count": null,
   "id": "78f2b707",
   "metadata": {},
   "outputs": [],
   "source": [
    "\n"
   ]
  },
  {
   "cell_type": "code",
   "execution_count": null,
   "id": "f687dbd0",
   "metadata": {},
   "outputs": [],
   "source": []
  }
 ],
 "metadata": {
  "kernelspec": {
   "display_name": "Python 3 (ipykernel)",
   "language": "python",
   "name": "python3"
  },
  "language_info": {
   "codemirror_mode": {
    "name": "ipython",
    "version": 3
   },
   "file_extension": ".py",
   "mimetype": "text/x-python",
   "name": "python",
   "nbconvert_exporter": "python",
   "pygments_lexer": "ipython3",
   "version": "3.11.4"
  }
 },
 "nbformat": 4,
 "nbformat_minor": 5
}
