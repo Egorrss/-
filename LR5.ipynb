{
 "cells": [
  {
   "cell_type": "markdown",
   "id": "625974b2",
   "metadata": {},
   "source": [
    "# Лабораторная работа №5"
   ]
  },
  {
   "cell_type": "markdown",
   "id": "8236ec15",
   "metadata": {},
   "source": [
    "## Задание 1 \n",
    "###### Провести классификацию найденного датасета, методами решающего дерева и случайного леса . В формате Markdown написать пояснения. Объяснить почему были выбраны именно такие гиперпараметры, была ли перекрестная проверка, и т.д."
   ]
  },
  {
   "cell_type": "markdown",
   "id": "4e4a4979",
   "metadata": {},
   "source": [
    "датасет: [Homicide Reports, 1980-2014](https://www.kaggle.com/datasets/murderaccountability/homicide-reports)"
   ]
  },
  {
   "cell_type": "markdown",
   "id": "807ad40a",
   "metadata": {},
   "source": [
    "### Загрузка Библиотек"
   ]
  },
  {
   "cell_type": "code",
   "execution_count": 39,
   "id": "ae76ad7a",
   "metadata": {},
   "outputs": [],
   "source": [
    "import pandas as pd\n",
    "from sklearn.model_selection import train_test_split, GridSearchCV\n",
    "from sklearn.tree import DecisionTreeClassifier\n",
    "from sklearn.ensemble import RandomForestClassifier\n",
    "from sklearn.metrics import accuracy_score, classification_report"
   ]
  },
  {
   "cell_type": "markdown",
   "id": "5bce4984",
   "metadata": {},
   "source": [
    "### Загрузка данных и предварительная обработка\n",
    "###### Загрузка данных"
   ]
  },
  {
   "cell_type": "code",
   "execution_count": 9,
   "id": "c7beaa25",
   "metadata": {},
   "outputs": [],
   "source": [
    "data = pd.read_csv('database.csv',low_memory=False)\n",
    "# Удаление ненужных столбцов\n",
    "data = data.drop(columns=[\"Record ID\", \"Record Source\"])\n",
    "# Заполнение пропущенных значений\n",
    "data = data.dropna()"
   ]
  },
  {
   "cell_type": "markdown",
   "id": "07af3162",
   "metadata": {},
   "source": [
    "###### Выбираем случайное подмножество данных, т.к. загруженный датасет содержит 638 454 записей которые будут обрабатываться слишком долго"
   ]
  },
  {
   "cell_type": "code",
   "execution_count": 10,
   "id": "b0670709",
   "metadata": {},
   "outputs": [
    {
     "data": {
      "text/html": [
       "<div>\n",
       "<style scoped>\n",
       "    .dataframe tbody tr th:only-of-type {\n",
       "        vertical-align: middle;\n",
       "    }\n",
       "\n",
       "    .dataframe tbody tr th {\n",
       "        vertical-align: top;\n",
       "    }\n",
       "\n",
       "    .dataframe thead th {\n",
       "        text-align: right;\n",
       "    }\n",
       "</style>\n",
       "<table border=\"1\" class=\"dataframe\">\n",
       "  <thead>\n",
       "    <tr style=\"text-align: right;\">\n",
       "      <th></th>\n",
       "      <th>Agency Code</th>\n",
       "      <th>Agency Name</th>\n",
       "      <th>Agency Type</th>\n",
       "      <th>City</th>\n",
       "      <th>State</th>\n",
       "      <th>Year</th>\n",
       "      <th>Month</th>\n",
       "      <th>Incident</th>\n",
       "      <th>Crime Type</th>\n",
       "      <th>Crime Solved</th>\n",
       "      <th>...</th>\n",
       "      <th>Victim Race</th>\n",
       "      <th>Victim Ethnicity</th>\n",
       "      <th>Perpetrator Sex</th>\n",
       "      <th>Perpetrator Age</th>\n",
       "      <th>Perpetrator Race</th>\n",
       "      <th>Perpetrator Ethnicity</th>\n",
       "      <th>Relationship</th>\n",
       "      <th>Weapon</th>\n",
       "      <th>Victim Count</th>\n",
       "      <th>Perpetrator Count</th>\n",
       "    </tr>\n",
       "  </thead>\n",
       "  <tbody>\n",
       "    <tr>\n",
       "      <th>484984</th>\n",
       "      <td>CA03612</td>\n",
       "      <td>Victorville</td>\n",
       "      <td>Municipal Police</td>\n",
       "      <td>San Bernardino</td>\n",
       "      <td>California</td>\n",
       "      <td>2005</td>\n",
       "      <td>July</td>\n",
       "      <td>1</td>\n",
       "      <td>Murder or Manslaughter</td>\n",
       "      <td>No</td>\n",
       "      <td>...</td>\n",
       "      <td>White</td>\n",
       "      <td>Hispanic</td>\n",
       "      <td>Unknown</td>\n",
       "      <td>0</td>\n",
       "      <td>Unknown</td>\n",
       "      <td>Unknown</td>\n",
       "      <td>Unknown</td>\n",
       "      <td>Handgun</td>\n",
       "      <td>1</td>\n",
       "      <td>0</td>\n",
       "    </tr>\n",
       "    <tr>\n",
       "      <th>608445</th>\n",
       "      <td>TX10100</td>\n",
       "      <td>Harris County</td>\n",
       "      <td>Sheriff</td>\n",
       "      <td>Harris</td>\n",
       "      <td>Texas</td>\n",
       "      <td>2013</td>\n",
       "      <td>May</td>\n",
       "      <td>3</td>\n",
       "      <td>Murder or Manslaughter</td>\n",
       "      <td>No</td>\n",
       "      <td>...</td>\n",
       "      <td>White</td>\n",
       "      <td>Not Hispanic</td>\n",
       "      <td>Unknown</td>\n",
       "      <td>0</td>\n",
       "      <td>Unknown</td>\n",
       "      <td>Unknown</td>\n",
       "      <td>Unknown</td>\n",
       "      <td>Firearm</td>\n",
       "      <td>0</td>\n",
       "      <td>0</td>\n",
       "    </tr>\n",
       "    <tr>\n",
       "      <th>417612</th>\n",
       "      <td>AR06200</td>\n",
       "      <td>St. Francis</td>\n",
       "      <td>Sheriff</td>\n",
       "      <td>St. Francis</td>\n",
       "      <td>Arkansas</td>\n",
       "      <td>2001</td>\n",
       "      <td>June</td>\n",
       "      <td>1</td>\n",
       "      <td>Murder or Manslaughter</td>\n",
       "      <td>Yes</td>\n",
       "      <td>...</td>\n",
       "      <td>Black</td>\n",
       "      <td>Not Hispanic</td>\n",
       "      <td>Male</td>\n",
       "      <td>18</td>\n",
       "      <td>Black</td>\n",
       "      <td>Not Hispanic</td>\n",
       "      <td>Acquaintance</td>\n",
       "      <td>Handgun</td>\n",
       "      <td>0</td>\n",
       "      <td>0</td>\n",
       "    </tr>\n",
       "    <tr>\n",
       "      <th>372692</th>\n",
       "      <td>AZ01003</td>\n",
       "      <td>Tucson</td>\n",
       "      <td>Municipal Police</td>\n",
       "      <td>Pima</td>\n",
       "      <td>Arizona</td>\n",
       "      <td>1998</td>\n",
       "      <td>March</td>\n",
       "      <td>6</td>\n",
       "      <td>Murder or Manslaughter</td>\n",
       "      <td>No</td>\n",
       "      <td>...</td>\n",
       "      <td>White</td>\n",
       "      <td>Not Hispanic</td>\n",
       "      <td>Unknown</td>\n",
       "      <td>0</td>\n",
       "      <td>Unknown</td>\n",
       "      <td>Unknown</td>\n",
       "      <td>Unknown</td>\n",
       "      <td>Handgun</td>\n",
       "      <td>0</td>\n",
       "      <td>0</td>\n",
       "    </tr>\n",
       "    <tr>\n",
       "      <th>402028</th>\n",
       "      <td>WA02400</td>\n",
       "      <td>Okanogan</td>\n",
       "      <td>Sheriff</td>\n",
       "      <td>Okanogan</td>\n",
       "      <td>Washington</td>\n",
       "      <td>1999</td>\n",
       "      <td>August</td>\n",
       "      <td>1</td>\n",
       "      <td>Murder or Manslaughter</td>\n",
       "      <td>Yes</td>\n",
       "      <td>...</td>\n",
       "      <td>White</td>\n",
       "      <td>Unknown</td>\n",
       "      <td>Male</td>\n",
       "      <td>20</td>\n",
       "      <td>White</td>\n",
       "      <td>Unknown</td>\n",
       "      <td>Girlfriend</td>\n",
       "      <td>Rifle</td>\n",
       "      <td>0</td>\n",
       "      <td>0</td>\n",
       "    </tr>\n",
       "  </tbody>\n",
       "</table>\n",
       "<p>5 rows × 22 columns</p>\n",
       "</div>"
      ],
      "text/plain": [
       "       Agency Code    Agency Name       Agency Type            City  \\\n",
       "484984     CA03612    Victorville  Municipal Police  San Bernardino   \n",
       "608445     TX10100  Harris County           Sheriff          Harris   \n",
       "417612     AR06200    St. Francis           Sheriff     St. Francis   \n",
       "372692     AZ01003         Tucson  Municipal Police            Pima   \n",
       "402028     WA02400       Okanogan           Sheriff        Okanogan   \n",
       "\n",
       "             State  Year   Month  Incident              Crime Type  \\\n",
       "484984  California  2005    July         1  Murder or Manslaughter   \n",
       "608445       Texas  2013     May         3  Murder or Manslaughter   \n",
       "417612    Arkansas  2001    June         1  Murder or Manslaughter   \n",
       "372692     Arizona  1998   March         6  Murder or Manslaughter   \n",
       "402028  Washington  1999  August         1  Murder or Manslaughter   \n",
       "\n",
       "       Crime Solved  ... Victim Race  Victim Ethnicity Perpetrator Sex  \\\n",
       "484984           No  ...       White          Hispanic         Unknown   \n",
       "608445           No  ...       White      Not Hispanic         Unknown   \n",
       "417612          Yes  ...       Black      Not Hispanic            Male   \n",
       "372692           No  ...       White      Not Hispanic         Unknown   \n",
       "402028          Yes  ...       White           Unknown            Male   \n",
       "\n",
       "       Perpetrator Age Perpetrator Race Perpetrator Ethnicity  Relationship  \\\n",
       "484984               0          Unknown               Unknown       Unknown   \n",
       "608445               0          Unknown               Unknown       Unknown   \n",
       "417612              18            Black          Not Hispanic  Acquaintance   \n",
       "372692               0          Unknown               Unknown       Unknown   \n",
       "402028              20            White               Unknown    Girlfriend   \n",
       "\n",
       "         Weapon Victim Count Perpetrator Count  \n",
       "484984  Handgun            1                 0  \n",
       "608445  Firearm            0                 0  \n",
       "417612  Handgun            0                 0  \n",
       "372692  Handgun            0                 0  \n",
       "402028    Rifle            0                 0  \n",
       "\n",
       "[5 rows x 22 columns]"
      ]
     },
     "execution_count": 10,
     "metadata": {},
     "output_type": "execute_result"
    }
   ],
   "source": [
    "subset_data = data.sample(n=11000, random_state=42)\n",
    "\n",
    "subset_data.head() # Просмотр первых нескольких строк данных"
   ]
  },
  {
   "cell_type": "markdown",
   "id": "25e4d416",
   "metadata": {},
   "source": [
    "###### Выбор признаков и целевой переменной"
   ]
  },
  {
   "cell_type": "code",
   "execution_count": 11,
   "id": "962e09c9",
   "metadata": {},
   "outputs": [],
   "source": [
    "X = subset_data[['Victim Sex', 'Victim Age', 'Victim Race', 'Perpetrator Sex', 'Perpetrator Age', 'Perpetrator Race', 'Weapon']]\n",
    "Y = subset_data['Crime Solved']\n",
    "# можно заменить data на subset_data и наоборот"
   ]
  },
  {
   "cell_type": "markdown",
   "id": "b030107f",
   "metadata": {},
   "source": [
    "###### Преобразование категориальных признаков в числовые"
   ]
  },
  {
   "cell_type": "code",
   "execution_count": 12,
   "id": "9fc79a2e",
   "metadata": {},
   "outputs": [],
   "source": [
    "X = pd.get_dummies(X)"
   ]
  },
  {
   "cell_type": "markdown",
   "id": "1e1f1521",
   "metadata": {},
   "source": [
    "###### Разделение данных на обучающий и тестовый наборы"
   ]
  },
  {
   "cell_type": "code",
   "execution_count": 13,
   "id": "3adc003a",
   "metadata": {},
   "outputs": [],
   "source": [
    "X_train, X_test, Y_train, Y_test = train_test_split(X, Y, test_size=0.2, random_state=42)"
   ]
  },
  {
   "cell_type": "markdown",
   "id": "ae2a3420",
   "metadata": {},
   "source": [
    "###### Определение параметров для решающего дерева"
   ]
  },
  {
   "cell_type": "code",
   "execution_count": 21,
   "id": "9b24bc27",
   "metadata": {},
   "outputs": [],
   "source": [
    "dt_param_grid = {\n",
    "    'max_depth': [3, 5, 7, 10]\n",
    "}"
   ]
  },
  {
   "cell_type": "markdown",
   "id": "ce9c7593",
   "metadata": {},
   "source": [
    "###### Определение параметров для случайного леса"
   ]
  },
  {
   "cell_type": "code",
   "execution_count": 22,
   "id": "0a1119ef",
   "metadata": {},
   "outputs": [],
   "source": [
    "rf_param_grid = {\n",
    "    'n_estimators': [50, 100, 150],\n",
    "    'max_depth': [5, 10, 15]\n",
    "}"
   ]
  },
  {
   "cell_type": "markdown",
   "id": "77ad60b9",
   "metadata": {},
   "source": [
    "###### Создание экземпляров классификаторов"
   ]
  },
  {
   "cell_type": "code",
   "execution_count": 23,
   "id": "f948317e",
   "metadata": {},
   "outputs": [],
   "source": [
    "dt_classifier = DecisionTreeClassifier()\n",
    "rf_classifier = RandomForestClassifier()"
   ]
  },
  {
   "cell_type": "markdown",
   "id": "02a34312",
   "metadata": {},
   "source": [
    "###### Создание объектов GridSearchCV"
   ]
  },
  {
   "cell_type": "code",
   "execution_count": 26,
   "id": "29c66f6c",
   "metadata": {},
   "outputs": [],
   "source": [
    "dt_grid_search = GridSearchCV(dt_classifier, dt_param_grid, cv=5)\n",
    "rf_grid_search = GridSearchCV(rf_classifier, rf_param_grid, cv=5)"
   ]
  },
  {
   "cell_type": "markdown",
   "id": "88b1a6a4",
   "metadata": {},
   "source": [
    "###### Обучение моделей с использованием Grid Search"
   ]
  },
  {
   "cell_type": "code",
   "execution_count": 28,
   "id": "b27faf02",
   "metadata": {},
   "outputs": [
    {
     "data": {
      "text/html": [
       "<style>#sk-container-id-3 {color: black;}#sk-container-id-3 pre{padding: 0;}#sk-container-id-3 div.sk-toggleable {background-color: white;}#sk-container-id-3 label.sk-toggleable__label {cursor: pointer;display: block;width: 100%;margin-bottom: 0;padding: 0.3em;box-sizing: border-box;text-align: center;}#sk-container-id-3 label.sk-toggleable__label-arrow:before {content: \"▸\";float: left;margin-right: 0.25em;color: #696969;}#sk-container-id-3 label.sk-toggleable__label-arrow:hover:before {color: black;}#sk-container-id-3 div.sk-estimator:hover label.sk-toggleable__label-arrow:before {color: black;}#sk-container-id-3 div.sk-toggleable__content {max-height: 0;max-width: 0;overflow: hidden;text-align: left;background-color: #f0f8ff;}#sk-container-id-3 div.sk-toggleable__content pre {margin: 0.2em;color: black;border-radius: 0.25em;background-color: #f0f8ff;}#sk-container-id-3 input.sk-toggleable__control:checked~div.sk-toggleable__content {max-height: 200px;max-width: 100%;overflow: auto;}#sk-container-id-3 input.sk-toggleable__control:checked~label.sk-toggleable__label-arrow:before {content: \"▾\";}#sk-container-id-3 div.sk-estimator input.sk-toggleable__control:checked~label.sk-toggleable__label {background-color: #d4ebff;}#sk-container-id-3 div.sk-label input.sk-toggleable__control:checked~label.sk-toggleable__label {background-color: #d4ebff;}#sk-container-id-3 input.sk-hidden--visually {border: 0;clip: rect(1px 1px 1px 1px);clip: rect(1px, 1px, 1px, 1px);height: 1px;margin: -1px;overflow: hidden;padding: 0;position: absolute;width: 1px;}#sk-container-id-3 div.sk-estimator {font-family: monospace;background-color: #f0f8ff;border: 1px dotted black;border-radius: 0.25em;box-sizing: border-box;margin-bottom: 0.5em;}#sk-container-id-3 div.sk-estimator:hover {background-color: #d4ebff;}#sk-container-id-3 div.sk-parallel-item::after {content: \"\";width: 100%;border-bottom: 1px solid gray;flex-grow: 1;}#sk-container-id-3 div.sk-label:hover label.sk-toggleable__label {background-color: #d4ebff;}#sk-container-id-3 div.sk-serial::before {content: \"\";position: absolute;border-left: 1px solid gray;box-sizing: border-box;top: 0;bottom: 0;left: 50%;z-index: 0;}#sk-container-id-3 div.sk-serial {display: flex;flex-direction: column;align-items: center;background-color: white;padding-right: 0.2em;padding-left: 0.2em;position: relative;}#sk-container-id-3 div.sk-item {position: relative;z-index: 1;}#sk-container-id-3 div.sk-parallel {display: flex;align-items: stretch;justify-content: center;background-color: white;position: relative;}#sk-container-id-3 div.sk-item::before, #sk-container-id-3 div.sk-parallel-item::before {content: \"\";position: absolute;border-left: 1px solid gray;box-sizing: border-box;top: 0;bottom: 0;left: 50%;z-index: -1;}#sk-container-id-3 div.sk-parallel-item {display: flex;flex-direction: column;z-index: 1;position: relative;background-color: white;}#sk-container-id-3 div.sk-parallel-item:first-child::after {align-self: flex-end;width: 50%;}#sk-container-id-3 div.sk-parallel-item:last-child::after {align-self: flex-start;width: 50%;}#sk-container-id-3 div.sk-parallel-item:only-child::after {width: 0;}#sk-container-id-3 div.sk-dashed-wrapped {border: 1px dashed gray;margin: 0 0.4em 0.5em 0.4em;box-sizing: border-box;padding-bottom: 0.4em;background-color: white;}#sk-container-id-3 div.sk-label label {font-family: monospace;font-weight: bold;display: inline-block;line-height: 1.2em;}#sk-container-id-3 div.sk-label-container {text-align: center;}#sk-container-id-3 div.sk-container {/* jupyter's `normalize.less` sets `[hidden] { display: none; }` but bootstrap.min.css set `[hidden] { display: none !important; }` so we also need the `!important` here to be able to override the default hidden behavior on the sphinx rendered scikit-learn.org. See: https://github.com/scikit-learn/scikit-learn/issues/21755 */display: inline-block !important;position: relative;}#sk-container-id-3 div.sk-text-repr-fallback {display: none;}</style><div id=\"sk-container-id-3\" class=\"sk-top-container\"><div class=\"sk-text-repr-fallback\"><pre>GridSearchCV(cv=5, estimator=RandomForestClassifier(),\n",
       "             param_grid={&#x27;max_depth&#x27;: [5, 10, 15],\n",
       "                         &#x27;n_estimators&#x27;: [50, 100, 150]})</pre><b>In a Jupyter environment, please rerun this cell to show the HTML representation or trust the notebook. <br />On GitHub, the HTML representation is unable to render, please try loading this page with nbviewer.org.</b></div><div class=\"sk-container\" hidden><div class=\"sk-item sk-dashed-wrapped\"><div class=\"sk-label-container\"><div class=\"sk-label sk-toggleable\"><input class=\"sk-toggleable__control sk-hidden--visually\" id=\"sk-estimator-id-3\" type=\"checkbox\" ><label for=\"sk-estimator-id-3\" class=\"sk-toggleable__label sk-toggleable__label-arrow\">GridSearchCV</label><div class=\"sk-toggleable__content\"><pre>GridSearchCV(cv=5, estimator=RandomForestClassifier(),\n",
       "             param_grid={&#x27;max_depth&#x27;: [5, 10, 15],\n",
       "                         &#x27;n_estimators&#x27;: [50, 100, 150]})</pre></div></div></div><div class=\"sk-parallel\"><div class=\"sk-parallel-item\"><div class=\"sk-item\"><div class=\"sk-label-container\"><div class=\"sk-label sk-toggleable\"><input class=\"sk-toggleable__control sk-hidden--visually\" id=\"sk-estimator-id-4\" type=\"checkbox\" ><label for=\"sk-estimator-id-4\" class=\"sk-toggleable__label sk-toggleable__label-arrow\">estimator: RandomForestClassifier</label><div class=\"sk-toggleable__content\"><pre>RandomForestClassifier()</pre></div></div></div><div class=\"sk-serial\"><div class=\"sk-item\"><div class=\"sk-estimator sk-toggleable\"><input class=\"sk-toggleable__control sk-hidden--visually\" id=\"sk-estimator-id-5\" type=\"checkbox\" ><label for=\"sk-estimator-id-5\" class=\"sk-toggleable__label sk-toggleable__label-arrow\">RandomForestClassifier</label><div class=\"sk-toggleable__content\"><pre>RandomForestClassifier()</pre></div></div></div></div></div></div></div></div></div></div>"
      ],
      "text/plain": [
       "GridSearchCV(cv=5, estimator=RandomForestClassifier(),\n",
       "             param_grid={'max_depth': [5, 10, 15],\n",
       "                         'n_estimators': [50, 100, 150]})"
      ]
     },
     "execution_count": 28,
     "metadata": {},
     "output_type": "execute_result"
    }
   ],
   "source": [
    "dt_grid_search.fit(X_train, Y_train)\n",
    "rf_grid_search.fit(X_train, Y_train)"
   ]
  },
  {
   "cell_type": "markdown",
   "id": "bc61c416",
   "metadata": {},
   "source": [
    "###### Вывод результатов кросс-валидации для решающего дерева"
   ]
  },
  {
   "cell_type": "code",
   "execution_count": 29,
   "id": "48fab36d",
   "metadata": {},
   "outputs": [
    {
     "name": "stdout",
     "output_type": "stream",
     "text": [
      "Decision Tree Cross-Validation Results:\n",
      "   mean_fit_time  std_fit_time  mean_score_time  std_score_time  \\\n",
      "0       0.046124      0.007271         0.009941        0.003722   \n",
      "1       0.050009      0.005324         0.011646        0.001862   \n",
      "2       0.051776      0.008841         0.014752        0.006693   \n",
      "3       0.055335      0.009641         0.010773        0.000730   \n",
      "\n",
      "  param_max_depth             params  split0_test_score  split1_test_score  \\\n",
      "0               3   {'max_depth': 3}           0.999432                1.0   \n",
      "1               5   {'max_depth': 5}           0.999432                1.0   \n",
      "2               7   {'max_depth': 7}           0.999432                1.0   \n",
      "3              10  {'max_depth': 10}           0.999432                1.0   \n",
      "\n",
      "   split2_test_score  split3_test_score  split4_test_score  mean_test_score  \\\n",
      "0           0.998295           1.000000                1.0         0.999545   \n",
      "1           0.998295           0.999432                1.0         0.999432   \n",
      "2           0.998295           0.998864                1.0         0.999318   \n",
      "3           0.998295           0.998864                1.0         0.999318   \n",
      "\n",
      "   std_test_score  rank_test_score  \n",
      "0        0.000663                1  \n",
      "1        0.000622                2  \n",
      "2        0.000663                3  \n",
      "3        0.000663                3  \n"
     ]
    }
   ],
   "source": [
    "print(\"Decision Tree Cross-Validation Results:\")\n",
    "print(pd.DataFrame(dt_grid_search.cv_results_))"
   ]
  },
  {
   "cell_type": "markdown",
   "id": "8baeec9c",
   "metadata": {},
   "source": [
    "###### Вывод результатов кросс-валидации для случайного леса"
   ]
  },
  {
   "cell_type": "code",
   "execution_count": 30,
   "id": "535e7ca3",
   "metadata": {},
   "outputs": [
    {
     "name": "stdout",
     "output_type": "stream",
     "text": [
      "\n",
      "Random Forest Cross-Validation Results:\n",
      "   mean_fit_time  std_fit_time  mean_score_time  std_score_time  \\\n",
      "0       0.308764      0.010338         0.032494        0.001846   \n",
      "1       0.566651      0.044933         0.054582        0.015166   \n",
      "2       0.821192      0.062136         0.071328        0.006273   \n",
      "3       0.351188      0.037074         0.030753        0.002974   \n",
      "4       0.682466      0.062876         0.050825        0.006281   \n",
      "5       0.971078      0.047081         0.070907        0.011533   \n",
      "6       0.428390      0.074448         0.040132        0.007650   \n",
      "7       0.727753      0.031996         0.060985        0.008125   \n",
      "8       1.038073      0.049785         0.084109        0.004171   \n",
      "\n",
      "  param_max_depth param_n_estimators                                  params  \\\n",
      "0               5                 50    {'max_depth': 5, 'n_estimators': 50}   \n",
      "1               5                100   {'max_depth': 5, 'n_estimators': 100}   \n",
      "2               5                150   {'max_depth': 5, 'n_estimators': 150}   \n",
      "3              10                 50   {'max_depth': 10, 'n_estimators': 50}   \n",
      "4              10                100  {'max_depth': 10, 'n_estimators': 100}   \n",
      "5              10                150  {'max_depth': 10, 'n_estimators': 150}   \n",
      "6              15                 50   {'max_depth': 15, 'n_estimators': 50}   \n",
      "7              15                100  {'max_depth': 15, 'n_estimators': 100}   \n",
      "8              15                150  {'max_depth': 15, 'n_estimators': 150}   \n",
      "\n",
      "   split0_test_score  split1_test_score  split2_test_score  split3_test_score  \\\n",
      "0           0.998864                1.0           0.997727           0.999432   \n",
      "1           0.999432                1.0           0.998295           1.000000   \n",
      "2           0.999432                1.0           0.998295           0.999432   \n",
      "3           0.999432                1.0           0.998295           0.999432   \n",
      "4           0.999432                1.0           0.998295           1.000000   \n",
      "5           0.999432                1.0           0.998295           1.000000   \n",
      "6           0.999432                1.0           0.998295           0.999432   \n",
      "7           0.999432                1.0           0.998295           0.999432   \n",
      "8           0.999432                1.0           0.998295           0.999432   \n",
      "\n",
      "   split4_test_score  mean_test_score  std_test_score  rank_test_score  \n",
      "0                1.0         0.999205        0.000850                9  \n",
      "1                1.0         0.999545        0.000663                1  \n",
      "2                1.0         0.999432        0.000622                4  \n",
      "3                1.0         0.999432        0.000622                4  \n",
      "4                1.0         0.999545        0.000663                1  \n",
      "5                1.0         0.999545        0.000663                1  \n",
      "6                1.0         0.999432        0.000622                4  \n",
      "7                1.0         0.999432        0.000622                4  \n",
      "8                1.0         0.999432        0.000622                4  \n"
     ]
    }
   ],
   "source": [
    "print(\"\\nRandom Forest Cross-Validation Results:\")\n",
    "print(pd.DataFrame(rf_grid_search.cv_results_))"
   ]
  },
  {
   "cell_type": "markdown",
   "id": "bd771feb",
   "metadata": {},
   "source": [
    "###### Выбор лучших параметров"
   ]
  },
  {
   "cell_type": "code",
   "execution_count": 31,
   "id": "668f2e7f",
   "metadata": {},
   "outputs": [
    {
     "name": "stdout",
     "output_type": "stream",
     "text": [
      "\n",
      "Best Decision Tree Parameters: {'max_depth': 3}\n",
      "Best Random Forest Parameters: {'max_depth': 5, 'n_estimators': 100}\n"
     ]
    }
   ],
   "source": [
    "best_dt_params = dt_grid_search.best_params_\n",
    "best_rf_params = rf_grid_search.best_params_\n",
    "print(\"\\nBest Decision Tree Parameters:\", best_dt_params)\n",
    "print(\"Best Random Forest Parameters:\", best_rf_params)"
   ]
  },
  {
   "cell_type": "markdown",
   "id": "cb082e1c",
   "metadata": {},
   "source": [
    "### Обучение моделей с лучшими параметрами"
   ]
  },
  {
   "cell_type": "code",
   "execution_count": 32,
   "id": "ede26070",
   "metadata": {},
   "outputs": [
    {
     "data": {
      "text/html": [
       "<style>#sk-container-id-4 {color: black;}#sk-container-id-4 pre{padding: 0;}#sk-container-id-4 div.sk-toggleable {background-color: white;}#sk-container-id-4 label.sk-toggleable__label {cursor: pointer;display: block;width: 100%;margin-bottom: 0;padding: 0.3em;box-sizing: border-box;text-align: center;}#sk-container-id-4 label.sk-toggleable__label-arrow:before {content: \"▸\";float: left;margin-right: 0.25em;color: #696969;}#sk-container-id-4 label.sk-toggleable__label-arrow:hover:before {color: black;}#sk-container-id-4 div.sk-estimator:hover label.sk-toggleable__label-arrow:before {color: black;}#sk-container-id-4 div.sk-toggleable__content {max-height: 0;max-width: 0;overflow: hidden;text-align: left;background-color: #f0f8ff;}#sk-container-id-4 div.sk-toggleable__content pre {margin: 0.2em;color: black;border-radius: 0.25em;background-color: #f0f8ff;}#sk-container-id-4 input.sk-toggleable__control:checked~div.sk-toggleable__content {max-height: 200px;max-width: 100%;overflow: auto;}#sk-container-id-4 input.sk-toggleable__control:checked~label.sk-toggleable__label-arrow:before {content: \"▾\";}#sk-container-id-4 div.sk-estimator input.sk-toggleable__control:checked~label.sk-toggleable__label {background-color: #d4ebff;}#sk-container-id-4 div.sk-label input.sk-toggleable__control:checked~label.sk-toggleable__label {background-color: #d4ebff;}#sk-container-id-4 input.sk-hidden--visually {border: 0;clip: rect(1px 1px 1px 1px);clip: rect(1px, 1px, 1px, 1px);height: 1px;margin: -1px;overflow: hidden;padding: 0;position: absolute;width: 1px;}#sk-container-id-4 div.sk-estimator {font-family: monospace;background-color: #f0f8ff;border: 1px dotted black;border-radius: 0.25em;box-sizing: border-box;margin-bottom: 0.5em;}#sk-container-id-4 div.sk-estimator:hover {background-color: #d4ebff;}#sk-container-id-4 div.sk-parallel-item::after {content: \"\";width: 100%;border-bottom: 1px solid gray;flex-grow: 1;}#sk-container-id-4 div.sk-label:hover label.sk-toggleable__label {background-color: #d4ebff;}#sk-container-id-4 div.sk-serial::before {content: \"\";position: absolute;border-left: 1px solid gray;box-sizing: border-box;top: 0;bottom: 0;left: 50%;z-index: 0;}#sk-container-id-4 div.sk-serial {display: flex;flex-direction: column;align-items: center;background-color: white;padding-right: 0.2em;padding-left: 0.2em;position: relative;}#sk-container-id-4 div.sk-item {position: relative;z-index: 1;}#sk-container-id-4 div.sk-parallel {display: flex;align-items: stretch;justify-content: center;background-color: white;position: relative;}#sk-container-id-4 div.sk-item::before, #sk-container-id-4 div.sk-parallel-item::before {content: \"\";position: absolute;border-left: 1px solid gray;box-sizing: border-box;top: 0;bottom: 0;left: 50%;z-index: -1;}#sk-container-id-4 div.sk-parallel-item {display: flex;flex-direction: column;z-index: 1;position: relative;background-color: white;}#sk-container-id-4 div.sk-parallel-item:first-child::after {align-self: flex-end;width: 50%;}#sk-container-id-4 div.sk-parallel-item:last-child::after {align-self: flex-start;width: 50%;}#sk-container-id-4 div.sk-parallel-item:only-child::after {width: 0;}#sk-container-id-4 div.sk-dashed-wrapped {border: 1px dashed gray;margin: 0 0.4em 0.5em 0.4em;box-sizing: border-box;padding-bottom: 0.4em;background-color: white;}#sk-container-id-4 div.sk-label label {font-family: monospace;font-weight: bold;display: inline-block;line-height: 1.2em;}#sk-container-id-4 div.sk-label-container {text-align: center;}#sk-container-id-4 div.sk-container {/* jupyter's `normalize.less` sets `[hidden] { display: none; }` but bootstrap.min.css set `[hidden] { display: none !important; }` so we also need the `!important` here to be able to override the default hidden behavior on the sphinx rendered scikit-learn.org. See: https://github.com/scikit-learn/scikit-learn/issues/21755 */display: inline-block !important;position: relative;}#sk-container-id-4 div.sk-text-repr-fallback {display: none;}</style><div id=\"sk-container-id-4\" class=\"sk-top-container\"><div class=\"sk-text-repr-fallback\"><pre>RandomForestClassifier(max_depth=5)</pre><b>In a Jupyter environment, please rerun this cell to show the HTML representation or trust the notebook. <br />On GitHub, the HTML representation is unable to render, please try loading this page with nbviewer.org.</b></div><div class=\"sk-container\" hidden><div class=\"sk-item\"><div class=\"sk-estimator sk-toggleable\"><input class=\"sk-toggleable__control sk-hidden--visually\" id=\"sk-estimator-id-6\" type=\"checkbox\" checked><label for=\"sk-estimator-id-6\" class=\"sk-toggleable__label sk-toggleable__label-arrow\">RandomForestClassifier</label><div class=\"sk-toggleable__content\"><pre>RandomForestClassifier(max_depth=5)</pre></div></div></div></div></div>"
      ],
      "text/plain": [
       "RandomForestClassifier(max_depth=5)"
      ]
     },
     "execution_count": 32,
     "metadata": {},
     "output_type": "execute_result"
    }
   ],
   "source": [
    "best_dt_classifier = DecisionTreeClassifier(**best_dt_params)\n",
    "best_rf_classifier = RandomForestClassifier(**best_rf_params)\n",
    "\n",
    "best_dt_classifier.fit(X_train, Y_train)\n",
    "best_rf_classifier.fit(X_train, Y_train)"
   ]
  },
  {
   "cell_type": "markdown",
   "id": "cc3f2966",
   "metadata": {},
   "source": [
    "###### Оценка точности на тестовом наборе"
   ]
  },
  {
   "cell_type": "code",
   "execution_count": 36,
   "id": "6d53eba0",
   "metadata": {},
   "outputs": [
    {
     "name": "stdout",
     "output_type": "stream",
     "text": [
      "\n",
      "Decision Tree Test Accuracy: 0.9995454545454545\n"
     ]
    }
   ],
   "source": [
    "Y_pred_dt = best_dt_classifier.predict(X_test)\n",
    "accuracy_dt = accuracy_score(Y_test, Y_pred_dt)\n",
    "print(\"\\nDecision Tree Test Accuracy:\", accuracy_dt)"
   ]
  },
  {
   "cell_type": "code",
   "execution_count": 38,
   "id": "1319b1ae",
   "metadata": {},
   "outputs": [
    {
     "name": "stdout",
     "output_type": "stream",
     "text": [
      "Random Forest Test Accuracy: 0.9995454545454545\n"
     ]
    }
   ],
   "source": [
    "Y_pred_rf = best_rf_classifier.predict(X_test)\n",
    "accuracy_rf = accuracy_score(Y_test, Y_pred_rf)\n",
    "print(\"Random Forest Test Accuracy:\", accuracy_rf)"
   ]
  },
  {
   "cell_type": "code",
   "execution_count": null,
   "id": "2ee3349c",
   "metadata": {},
   "outputs": [],
   "source": []
  },
  {
   "cell_type": "markdown",
   "id": "d265aee3",
   "metadata": {},
   "source": [
    "###### Создание и обучение решающего дерева"
   ]
  },
  {
   "cell_type": "code",
   "execution_count": 14,
   "id": "9e7faeeb",
   "metadata": {},
   "outputs": [
    {
     "data": {
      "text/html": [
       "<style>#sk-container-id-1 {color: black;}#sk-container-id-1 pre{padding: 0;}#sk-container-id-1 div.sk-toggleable {background-color: white;}#sk-container-id-1 label.sk-toggleable__label {cursor: pointer;display: block;width: 100%;margin-bottom: 0;padding: 0.3em;box-sizing: border-box;text-align: center;}#sk-container-id-1 label.sk-toggleable__label-arrow:before {content: \"▸\";float: left;margin-right: 0.25em;color: #696969;}#sk-container-id-1 label.sk-toggleable__label-arrow:hover:before {color: black;}#sk-container-id-1 div.sk-estimator:hover label.sk-toggleable__label-arrow:before {color: black;}#sk-container-id-1 div.sk-toggleable__content {max-height: 0;max-width: 0;overflow: hidden;text-align: left;background-color: #f0f8ff;}#sk-container-id-1 div.sk-toggleable__content pre {margin: 0.2em;color: black;border-radius: 0.25em;background-color: #f0f8ff;}#sk-container-id-1 input.sk-toggleable__control:checked~div.sk-toggleable__content {max-height: 200px;max-width: 100%;overflow: auto;}#sk-container-id-1 input.sk-toggleable__control:checked~label.sk-toggleable__label-arrow:before {content: \"▾\";}#sk-container-id-1 div.sk-estimator input.sk-toggleable__control:checked~label.sk-toggleable__label {background-color: #d4ebff;}#sk-container-id-1 div.sk-label input.sk-toggleable__control:checked~label.sk-toggleable__label {background-color: #d4ebff;}#sk-container-id-1 input.sk-hidden--visually {border: 0;clip: rect(1px 1px 1px 1px);clip: rect(1px, 1px, 1px, 1px);height: 1px;margin: -1px;overflow: hidden;padding: 0;position: absolute;width: 1px;}#sk-container-id-1 div.sk-estimator {font-family: monospace;background-color: #f0f8ff;border: 1px dotted black;border-radius: 0.25em;box-sizing: border-box;margin-bottom: 0.5em;}#sk-container-id-1 div.sk-estimator:hover {background-color: #d4ebff;}#sk-container-id-1 div.sk-parallel-item::after {content: \"\";width: 100%;border-bottom: 1px solid gray;flex-grow: 1;}#sk-container-id-1 div.sk-label:hover label.sk-toggleable__label {background-color: #d4ebff;}#sk-container-id-1 div.sk-serial::before {content: \"\";position: absolute;border-left: 1px solid gray;box-sizing: border-box;top: 0;bottom: 0;left: 50%;z-index: 0;}#sk-container-id-1 div.sk-serial {display: flex;flex-direction: column;align-items: center;background-color: white;padding-right: 0.2em;padding-left: 0.2em;position: relative;}#sk-container-id-1 div.sk-item {position: relative;z-index: 1;}#sk-container-id-1 div.sk-parallel {display: flex;align-items: stretch;justify-content: center;background-color: white;position: relative;}#sk-container-id-1 div.sk-item::before, #sk-container-id-1 div.sk-parallel-item::before {content: \"\";position: absolute;border-left: 1px solid gray;box-sizing: border-box;top: 0;bottom: 0;left: 50%;z-index: -1;}#sk-container-id-1 div.sk-parallel-item {display: flex;flex-direction: column;z-index: 1;position: relative;background-color: white;}#sk-container-id-1 div.sk-parallel-item:first-child::after {align-self: flex-end;width: 50%;}#sk-container-id-1 div.sk-parallel-item:last-child::after {align-self: flex-start;width: 50%;}#sk-container-id-1 div.sk-parallel-item:only-child::after {width: 0;}#sk-container-id-1 div.sk-dashed-wrapped {border: 1px dashed gray;margin: 0 0.4em 0.5em 0.4em;box-sizing: border-box;padding-bottom: 0.4em;background-color: white;}#sk-container-id-1 div.sk-label label {font-family: monospace;font-weight: bold;display: inline-block;line-height: 1.2em;}#sk-container-id-1 div.sk-label-container {text-align: center;}#sk-container-id-1 div.sk-container {/* jupyter's `normalize.less` sets `[hidden] { display: none; }` but bootstrap.min.css set `[hidden] { display: none !important; }` so we also need the `!important` here to be able to override the default hidden behavior on the sphinx rendered scikit-learn.org. See: https://github.com/scikit-learn/scikit-learn/issues/21755 */display: inline-block !important;position: relative;}#sk-container-id-1 div.sk-text-repr-fallback {display: none;}</style><div id=\"sk-container-id-1\" class=\"sk-top-container\"><div class=\"sk-text-repr-fallback\"><pre>DecisionTreeClassifier(max_depth=5)</pre><b>In a Jupyter environment, please rerun this cell to show the HTML representation or trust the notebook. <br />On GitHub, the HTML representation is unable to render, please try loading this page with nbviewer.org.</b></div><div class=\"sk-container\" hidden><div class=\"sk-item\"><div class=\"sk-estimator sk-toggleable\"><input class=\"sk-toggleable__control sk-hidden--visually\" id=\"sk-estimator-id-1\" type=\"checkbox\" checked><label for=\"sk-estimator-id-1\" class=\"sk-toggleable__label sk-toggleable__label-arrow\">DecisionTreeClassifier</label><div class=\"sk-toggleable__content\"><pre>DecisionTreeClassifier(max_depth=5)</pre></div></div></div></div></div>"
      ],
      "text/plain": [
       "DecisionTreeClassifier(max_depth=5)"
      ]
     },
     "execution_count": 14,
     "metadata": {},
     "output_type": "execute_result"
    }
   ],
   "source": [
    "decision_tree = DecisionTreeClassifier(max_depth=5)  # Выбор максимальной глубины дерева\n",
    "decision_tree.fit(X_train, Y_train)"
   ]
  },
  {
   "cell_type": "markdown",
   "id": "e41c0f56",
   "metadata": {},
   "source": [
    "###### Оценка точности на тестовом наборе"
   ]
  },
  {
   "cell_type": "code",
   "execution_count": 17,
   "id": "d8ca42fa",
   "metadata": {},
   "outputs": [
    {
     "name": "stdout",
     "output_type": "stream",
     "text": [
      "Decision Tree Accuracy: 0.9986363636363637\n"
     ]
    }
   ],
   "source": [
    "Y_pred_dt = decision_tree.predict(X_test)\n",
    "accuracy_dt = accuracy_score(Y_test, Y_pred_dt)\n",
    "print(\"Decision Tree Accuracy:\", accuracy_dt)"
   ]
  },
  {
   "cell_type": "markdown",
   "id": "0612dd34",
   "metadata": {},
   "source": [
    "###### Создание и обучение случайного леса"
   ]
  },
  {
   "cell_type": "code",
   "execution_count": 19,
   "id": "18f9201b",
   "metadata": {},
   "outputs": [
    {
     "data": {
      "text/html": [
       "<style>#sk-container-id-2 {color: black;}#sk-container-id-2 pre{padding: 0;}#sk-container-id-2 div.sk-toggleable {background-color: white;}#sk-container-id-2 label.sk-toggleable__label {cursor: pointer;display: block;width: 100%;margin-bottom: 0;padding: 0.3em;box-sizing: border-box;text-align: center;}#sk-container-id-2 label.sk-toggleable__label-arrow:before {content: \"▸\";float: left;margin-right: 0.25em;color: #696969;}#sk-container-id-2 label.sk-toggleable__label-arrow:hover:before {color: black;}#sk-container-id-2 div.sk-estimator:hover label.sk-toggleable__label-arrow:before {color: black;}#sk-container-id-2 div.sk-toggleable__content {max-height: 0;max-width: 0;overflow: hidden;text-align: left;background-color: #f0f8ff;}#sk-container-id-2 div.sk-toggleable__content pre {margin: 0.2em;color: black;border-radius: 0.25em;background-color: #f0f8ff;}#sk-container-id-2 input.sk-toggleable__control:checked~div.sk-toggleable__content {max-height: 200px;max-width: 100%;overflow: auto;}#sk-container-id-2 input.sk-toggleable__control:checked~label.sk-toggleable__label-arrow:before {content: \"▾\";}#sk-container-id-2 div.sk-estimator input.sk-toggleable__control:checked~label.sk-toggleable__label {background-color: #d4ebff;}#sk-container-id-2 div.sk-label input.sk-toggleable__control:checked~label.sk-toggleable__label {background-color: #d4ebff;}#sk-container-id-2 input.sk-hidden--visually {border: 0;clip: rect(1px 1px 1px 1px);clip: rect(1px, 1px, 1px, 1px);height: 1px;margin: -1px;overflow: hidden;padding: 0;position: absolute;width: 1px;}#sk-container-id-2 div.sk-estimator {font-family: monospace;background-color: #f0f8ff;border: 1px dotted black;border-radius: 0.25em;box-sizing: border-box;margin-bottom: 0.5em;}#sk-container-id-2 div.sk-estimator:hover {background-color: #d4ebff;}#sk-container-id-2 div.sk-parallel-item::after {content: \"\";width: 100%;border-bottom: 1px solid gray;flex-grow: 1;}#sk-container-id-2 div.sk-label:hover label.sk-toggleable__label {background-color: #d4ebff;}#sk-container-id-2 div.sk-serial::before {content: \"\";position: absolute;border-left: 1px solid gray;box-sizing: border-box;top: 0;bottom: 0;left: 50%;z-index: 0;}#sk-container-id-2 div.sk-serial {display: flex;flex-direction: column;align-items: center;background-color: white;padding-right: 0.2em;padding-left: 0.2em;position: relative;}#sk-container-id-2 div.sk-item {position: relative;z-index: 1;}#sk-container-id-2 div.sk-parallel {display: flex;align-items: stretch;justify-content: center;background-color: white;position: relative;}#sk-container-id-2 div.sk-item::before, #sk-container-id-2 div.sk-parallel-item::before {content: \"\";position: absolute;border-left: 1px solid gray;box-sizing: border-box;top: 0;bottom: 0;left: 50%;z-index: -1;}#sk-container-id-2 div.sk-parallel-item {display: flex;flex-direction: column;z-index: 1;position: relative;background-color: white;}#sk-container-id-2 div.sk-parallel-item:first-child::after {align-self: flex-end;width: 50%;}#sk-container-id-2 div.sk-parallel-item:last-child::after {align-self: flex-start;width: 50%;}#sk-container-id-2 div.sk-parallel-item:only-child::after {width: 0;}#sk-container-id-2 div.sk-dashed-wrapped {border: 1px dashed gray;margin: 0 0.4em 0.5em 0.4em;box-sizing: border-box;padding-bottom: 0.4em;background-color: white;}#sk-container-id-2 div.sk-label label {font-family: monospace;font-weight: bold;display: inline-block;line-height: 1.2em;}#sk-container-id-2 div.sk-label-container {text-align: center;}#sk-container-id-2 div.sk-container {/* jupyter's `normalize.less` sets `[hidden] { display: none; }` but bootstrap.min.css set `[hidden] { display: none !important; }` so we also need the `!important` here to be able to override the default hidden behavior on the sphinx rendered scikit-learn.org. See: https://github.com/scikit-learn/scikit-learn/issues/21755 */display: inline-block !important;position: relative;}#sk-container-id-2 div.sk-text-repr-fallback {display: none;}</style><div id=\"sk-container-id-2\" class=\"sk-top-container\"><div class=\"sk-text-repr-fallback\"><pre>RandomForestClassifier(max_depth=10, random_state=42)</pre><b>In a Jupyter environment, please rerun this cell to show the HTML representation or trust the notebook. <br />On GitHub, the HTML representation is unable to render, please try loading this page with nbviewer.org.</b></div><div class=\"sk-container\" hidden><div class=\"sk-item\"><div class=\"sk-estimator sk-toggleable\"><input class=\"sk-toggleable__control sk-hidden--visually\" id=\"sk-estimator-id-2\" type=\"checkbox\" checked><label for=\"sk-estimator-id-2\" class=\"sk-toggleable__label sk-toggleable__label-arrow\">RandomForestClassifier</label><div class=\"sk-toggleable__content\"><pre>RandomForestClassifier(max_depth=10, random_state=42)</pre></div></div></div></div></div>"
      ],
      "text/plain": [
       "RandomForestClassifier(max_depth=10, random_state=42)"
      ]
     },
     "execution_count": 19,
     "metadata": {},
     "output_type": "execute_result"
    }
   ],
   "source": [
    "random_forest = RandomForestClassifier(n_estimators=100, max_depth=10, random_state=42)  # Выбор количества деревьев и максимальной глубины\n",
    "random_forest.fit(X_train, Y_train)"
   ]
  },
  {
   "cell_type": "markdown",
   "id": "eb229790",
   "metadata": {},
   "source": [
    "###### Оценка точности на тестовом наборе"
   ]
  },
  {
   "cell_type": "code",
   "execution_count": 20,
   "id": "ecb94982",
   "metadata": {},
   "outputs": [
    {
     "name": "stdout",
     "output_type": "stream",
     "text": [
      "Random Forest Accuracy: 0.9995454545454545\n"
     ]
    }
   ],
   "source": [
    "Y_pred_rf = random_forest.predict(X_test)\n",
    "accuracy_rf = accuracy_score(Y_test, Y_pred_rf)\n",
    "print(\"Random Forest Accuracy:\", accuracy_rf)"
   ]
  },
  {
   "cell_type": "markdown",
   "id": "d1e6f0d3",
   "metadata": {},
   "source": [
    "###### Получение предсказаний на тестовом наборе для решающего дерева. Вывод classification_report для решающего дерева"
   ]
  },
  {
   "cell_type": "code",
   "execution_count": 41,
   "id": "f64bed1e",
   "metadata": {},
   "outputs": [
    {
     "name": "stdout",
     "output_type": "stream",
     "text": [
      "Classification Report for Decision Tree:\n",
      "              precision    recall  f1-score   support\n",
      "\n",
      "          No       1.00      1.00      1.00       650\n",
      "         Yes       1.00      1.00      1.00      1550\n",
      "\n",
      "    accuracy                           1.00      2200\n",
      "   macro avg       1.00      1.00      1.00      2200\n",
      "weighted avg       1.00      1.00      1.00      2200\n",
      "\n"
     ]
    }
   ],
   "source": [
    "Y_pred_dt = best_dt_classifier.predict(X_test)\n",
    "\n",
    "print(\"Classification Report for Decision Tree:\")\n",
    "print(classification_report(Y_test, Y_pred_dt))"
   ]
  },
  {
   "cell_type": "markdown",
   "id": "99ea4c4a",
   "metadata": {},
   "source": [
    "###### Получение предсказаний на тестовом наборе для случайного леса. Вывод classification_report для случайного леса"
   ]
  },
  {
   "cell_type": "code",
   "execution_count": 42,
   "id": "a3e393c0",
   "metadata": {},
   "outputs": [
    {
     "name": "stdout",
     "output_type": "stream",
     "text": [
      "\n",
      "Classification Report for Random Forest:\n",
      "              precision    recall  f1-score   support\n",
      "\n",
      "          No       1.00      1.00      1.00       650\n",
      "         Yes       1.00      1.00      1.00      1550\n",
      "\n",
      "    accuracy                           1.00      2200\n",
      "   macro avg       1.00      1.00      1.00      2200\n",
      "weighted avg       1.00      1.00      1.00      2200\n",
      "\n"
     ]
    }
   ],
   "source": [
    "Y_pred_rf = best_rf_classifier.predict(X_test)\n",
    "\n",
    "print(\"\\nClassification Report for Random Forest:\")\n",
    "print(classification_report(Y_test, Y_pred_rf))"
   ]
  },
  {
   "cell_type": "code",
   "execution_count": null,
   "id": "54292b1b",
   "metadata": {},
   "outputs": [],
   "source": []
  }
 ],
 "metadata": {
  "kernelspec": {
   "display_name": "Python 3 (ipykernel)",
   "language": "python",
   "name": "python3"
  },
  "language_info": {
   "codemirror_mode": {
    "name": "ipython",
    "version": 3
   },
   "file_extension": ".py",
   "mimetype": "text/x-python",
   "name": "python",
   "nbconvert_exporter": "python",
   "pygments_lexer": "ipython3",
   "version": "3.11.4"
  }
 },
 "nbformat": 4,
 "nbformat_minor": 5
}
