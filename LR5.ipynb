{
 "cells": [
  {
   "cell_type": "markdown",
   "id": "625974b2",
   "metadata": {},
   "source": [
    "# Лабораторная работа №5"
   ]
  },
  {
   "cell_type": "markdown",
   "id": "8236ec15",
   "metadata": {},
   "source": [
    "## Задание 1 \n",
    "###### Провести классификацию найденного датасета, методами решающего дерева и случайного леса . В формате Markdown написать пояснения. Объяснить почему были выбраны именно такие гиперпараметры, была ли перекрестная проверка, и т.д."
   ]
  },
  {
   "cell_type": "markdown",
   "id": "4e4a4979",
   "metadata": {},
   "source": [
    "датасет: [Homicide Reports, 1980-2014](https://www.kaggle.com/datasets/murderaccountability/homicide-reports)"
   ]
  },
  {
   "cell_type": "markdown",
   "id": "807ad40a",
   "metadata": {},
   "source": [
    "### Загрузка Библиотек"
   ]
  },
  {
   "cell_type": "code",
   "execution_count": 1,
   "id": "ae76ad7a",
   "metadata": {},
   "outputs": [],
   "source": [
    "import pandas as pd\n",
    "from sklearn.model_selection import train_test_split, GridSearchCV\n",
    "from sklearn.tree import DecisionTreeClassifier\n",
    "from sklearn.ensemble import RandomForestClassifier\n",
    "from sklearn.preprocessing import StandardScaler\n",
    "from sklearn.pipeline import Pipeline\n",
    "from sklearn.metrics import accuracy_score, classification_report, confusion_matrix"
   ]
  },
  {
   "cell_type": "markdown",
   "id": "5bce4984",
   "metadata": {},
   "source": [
    "### Загрузка данных и предварительная обработка\n",
    "###### Загрузка данных"
   ]
  },
  {
   "cell_type": "code",
   "execution_count": 2,
   "id": "220164fb",
   "metadata": {},
   "outputs": [],
   "source": [
    "N      = 100000\n",
    "N_test = 0.99991"
   ]
  },
  {
   "cell_type": "code",
   "execution_count": 3,
   "id": "c7beaa25",
   "metadata": {},
   "outputs": [
    {
     "data": {
      "text/html": [
       "<div>\n",
       "<style scoped>\n",
       "    .dataframe tbody tr th:only-of-type {\n",
       "        vertical-align: middle;\n",
       "    }\n",
       "\n",
       "    .dataframe tbody tr th {\n",
       "        vertical-align: top;\n",
       "    }\n",
       "\n",
       "    .dataframe thead th {\n",
       "        text-align: right;\n",
       "    }\n",
       "</style>\n",
       "<table border=\"1\" class=\"dataframe\">\n",
       "  <thead>\n",
       "    <tr style=\"text-align: right;\">\n",
       "      <th></th>\n",
       "      <th>Incident</th>\n",
       "      <th>Crime Type</th>\n",
       "      <th>Crime Solved</th>\n",
       "      <th>Victim Sex</th>\n",
       "      <th>Victim Age</th>\n",
       "      <th>Victim Race</th>\n",
       "      <th>Victim Ethnicity</th>\n",
       "      <th>Perpetrator Sex</th>\n",
       "      <th>Perpetrator Age</th>\n",
       "      <th>Perpetrator Race</th>\n",
       "      <th>Perpetrator Ethnicity</th>\n",
       "      <th>Relationship</th>\n",
       "      <th>Weapon</th>\n",
       "      <th>Victim Count</th>\n",
       "      <th>Perpetrator Count</th>\n",
       "    </tr>\n",
       "  </thead>\n",
       "  <tbody>\n",
       "    <tr>\n",
       "      <th>484984</th>\n",
       "      <td>1</td>\n",
       "      <td>Murder or Manslaughter</td>\n",
       "      <td>No</td>\n",
       "      <td>Male</td>\n",
       "      <td>18</td>\n",
       "      <td>White</td>\n",
       "      <td>Hispanic</td>\n",
       "      <td>Unknown</td>\n",
       "      <td>0</td>\n",
       "      <td>Unknown</td>\n",
       "      <td>Unknown</td>\n",
       "      <td>Unknown</td>\n",
       "      <td>Handgun</td>\n",
       "      <td>1</td>\n",
       "      <td>0</td>\n",
       "    </tr>\n",
       "    <tr>\n",
       "      <th>608445</th>\n",
       "      <td>3</td>\n",
       "      <td>Murder or Manslaughter</td>\n",
       "      <td>No</td>\n",
       "      <td>Male</td>\n",
       "      <td>27</td>\n",
       "      <td>White</td>\n",
       "      <td>Not Hispanic</td>\n",
       "      <td>Unknown</td>\n",
       "      <td>0</td>\n",
       "      <td>Unknown</td>\n",
       "      <td>Unknown</td>\n",
       "      <td>Unknown</td>\n",
       "      <td>Firearm</td>\n",
       "      <td>0</td>\n",
       "      <td>0</td>\n",
       "    </tr>\n",
       "    <tr>\n",
       "      <th>417612</th>\n",
       "      <td>1</td>\n",
       "      <td>Murder or Manslaughter</td>\n",
       "      <td>Yes</td>\n",
       "      <td>Male</td>\n",
       "      <td>42</td>\n",
       "      <td>Black</td>\n",
       "      <td>Not Hispanic</td>\n",
       "      <td>Male</td>\n",
       "      <td>18</td>\n",
       "      <td>Black</td>\n",
       "      <td>Not Hispanic</td>\n",
       "      <td>Acquaintance</td>\n",
       "      <td>Handgun</td>\n",
       "      <td>0</td>\n",
       "      <td>0</td>\n",
       "    </tr>\n",
       "    <tr>\n",
       "      <th>372692</th>\n",
       "      <td>6</td>\n",
       "      <td>Murder or Manslaughter</td>\n",
       "      <td>No</td>\n",
       "      <td>Male</td>\n",
       "      <td>44</td>\n",
       "      <td>White</td>\n",
       "      <td>Not Hispanic</td>\n",
       "      <td>Unknown</td>\n",
       "      <td>0</td>\n",
       "      <td>Unknown</td>\n",
       "      <td>Unknown</td>\n",
       "      <td>Unknown</td>\n",
       "      <td>Handgun</td>\n",
       "      <td>0</td>\n",
       "      <td>0</td>\n",
       "    </tr>\n",
       "    <tr>\n",
       "      <th>402028</th>\n",
       "      <td>1</td>\n",
       "      <td>Murder or Manslaughter</td>\n",
       "      <td>Yes</td>\n",
       "      <td>Female</td>\n",
       "      <td>15</td>\n",
       "      <td>White</td>\n",
       "      <td>Unknown</td>\n",
       "      <td>Male</td>\n",
       "      <td>20</td>\n",
       "      <td>White</td>\n",
       "      <td>Unknown</td>\n",
       "      <td>Girlfriend</td>\n",
       "      <td>Rifle</td>\n",
       "      <td>0</td>\n",
       "      <td>0</td>\n",
       "    </tr>\n",
       "  </tbody>\n",
       "</table>\n",
       "</div>"
      ],
      "text/plain": [
       "        Incident              Crime Type Crime Solved Victim Sex  Victim Age  \\\n",
       "484984         1  Murder or Manslaughter           No       Male          18   \n",
       "608445         3  Murder or Manslaughter           No       Male          27   \n",
       "417612         1  Murder or Manslaughter          Yes       Male          42   \n",
       "372692         6  Murder or Manslaughter           No       Male          44   \n",
       "402028         1  Murder or Manslaughter          Yes     Female          15   \n",
       "\n",
       "       Victim Race Victim Ethnicity Perpetrator Sex Perpetrator Age  \\\n",
       "484984       White         Hispanic         Unknown               0   \n",
       "608445       White     Not Hispanic         Unknown               0   \n",
       "417612       Black     Not Hispanic            Male              18   \n",
       "372692       White     Not Hispanic         Unknown               0   \n",
       "402028       White          Unknown            Male              20   \n",
       "\n",
       "       Perpetrator Race Perpetrator Ethnicity  Relationship   Weapon  \\\n",
       "484984          Unknown               Unknown       Unknown  Handgun   \n",
       "608445          Unknown               Unknown       Unknown  Firearm   \n",
       "417612            Black          Not Hispanic  Acquaintance  Handgun   \n",
       "372692          Unknown               Unknown       Unknown  Handgun   \n",
       "402028            White               Unknown    Girlfriend    Rifle   \n",
       "\n",
       "        Victim Count  Perpetrator Count  \n",
       "484984             1                  0  \n",
       "608445             0                  0  \n",
       "417612             0                  0  \n",
       "372692             0                  0  \n",
       "402028             0                  0  "
      ]
     },
     "execution_count": 3,
     "metadata": {},
     "output_type": "execute_result"
    }
   ],
   "source": [
    "data = pd.read_csv('database.csv',low_memory=False)\n",
    "subset_data = data.sample(n=N, random_state=42)\n",
    "# Исключение ненужных столбцов\n",
    "columns_to_drop = ['Record ID', 'Agency Code', 'Agency Name', 'Agency Type', 'City', 'State', 'Year', 'Month', 'Record Source']\n",
    "subset_data = subset_data.drop(columns=columns_to_drop)\n",
    "\n",
    "subset_data.dropna(inplace=True) # Удаление записей с пропущенными значениями\n",
    "subset_data.head()"
   ]
  },
  {
   "cell_type": "markdown",
   "id": "25e4d416",
   "metadata": {},
   "source": [
    "###### Выбор признаков и целевой переменной"
   ]
  },
  {
   "cell_type": "code",
   "execution_count": 4,
   "id": "962e09c9",
   "metadata": {},
   "outputs": [],
   "source": [
    "X = subset_data.drop(columns=['Crime Solved'])\n",
    "y = subset_data['Crime Solved']"
   ]
  },
  {
   "cell_type": "markdown",
   "id": "b030107f",
   "metadata": {},
   "source": [
    "###### Преобразование категориальных признаков в числовые"
   ]
  },
  {
   "cell_type": "code",
   "execution_count": 5,
   "id": "9fc79a2e",
   "metadata": {},
   "outputs": [],
   "source": [
    "X = pd.get_dummies(X)"
   ]
  },
  {
   "cell_type": "code",
   "execution_count": 6,
   "id": "2d16472f",
   "metadata": {},
   "outputs": [],
   "source": [
    "# Масштабирование данных\n",
    "scaler = StandardScaler()\n",
    "X_scaled = scaler.fit_transform(X)"
   ]
  },
  {
   "cell_type": "markdown",
   "id": "7e78f63d",
   "metadata": {},
   "source": [
    "### Разделение данных на тренировочную и тестовую выборки"
   ]
  },
  {
   "cell_type": "code",
   "execution_count": 7,
   "id": "7fa092bd",
   "metadata": {},
   "outputs": [],
   "source": [
    "X_train, X_test, y_train, y_test = train_test_split(X_scaled, y, test_size=N_test, random_state=42)"
   ]
  },
  {
   "cell_type": "markdown",
   "id": "7f23988f",
   "metadata": {},
   "source": [
    "### Построение и оценка модели"
   ]
  },
  {
   "cell_type": "markdown",
   "id": "e29c9722",
   "metadata": {},
   "source": [
    "### Решающее дерево"
   ]
  },
  {
   "cell_type": "code",
   "execution_count": 8,
   "id": "edf580a5",
   "metadata": {},
   "outputs": [],
   "source": [
    "# Определение модели решающего дерева\n",
    "pipeline = Pipeline([\n",
    "    ('clf', DecisionTreeClassifier())\n",
    "])\n",
    "# Задание сетки гиперпараметров для поиска с помощью GridSearchCV\n",
    "param_grid = {\n",
    "    'clf__max_depth': [None, 10, 20, 30],\n",
    "    'clf__min_samples_split': [2, 5, 10],\n",
    "    'clf__min_samples_leaf': [1, 2, 4]\n",
    "}\n",
    "\n",
    "# Создание экземпляра GridSearchCV\n",
    "grid_search = GridSearchCV(\n",
    "    pipeline, \n",
    "    param_grid, \n",
    "    cv=5, \n",
    "    scoring='accuracy',\n",
    "    n_jobs=16\n",
    ")"
   ]
  },
  {
   "cell_type": "code",
   "execution_count": 9,
   "id": "6a71cacc",
   "metadata": {},
   "outputs": [
    {
     "name": "stderr",
     "output_type": "stream",
     "text": [
      "C:\\ProgramData\\anaconda3\\Lib\\site-packages\\sklearn\\model_selection\\_split.py:725: UserWarning: The least populated class in y has only 4 members, which is less than n_splits=5.\n",
      "  warnings.warn(\n"
     ]
    },
    {
     "name": "stdout",
     "output_type": "stream",
     "text": [
      "CPU times: total: 453 ms\n",
      "Wall time: 12.5 s\n"
     ]
    },
    {
     "data": {
      "text/html": [
       "<style>#sk-container-id-1 {color: black;}#sk-container-id-1 pre{padding: 0;}#sk-container-id-1 div.sk-toggleable {background-color: white;}#sk-container-id-1 label.sk-toggleable__label {cursor: pointer;display: block;width: 100%;margin-bottom: 0;padding: 0.3em;box-sizing: border-box;text-align: center;}#sk-container-id-1 label.sk-toggleable__label-arrow:before {content: \"▸\";float: left;margin-right: 0.25em;color: #696969;}#sk-container-id-1 label.sk-toggleable__label-arrow:hover:before {color: black;}#sk-container-id-1 div.sk-estimator:hover label.sk-toggleable__label-arrow:before {color: black;}#sk-container-id-1 div.sk-toggleable__content {max-height: 0;max-width: 0;overflow: hidden;text-align: left;background-color: #f0f8ff;}#sk-container-id-1 div.sk-toggleable__content pre {margin: 0.2em;color: black;border-radius: 0.25em;background-color: #f0f8ff;}#sk-container-id-1 input.sk-toggleable__control:checked~div.sk-toggleable__content {max-height: 200px;max-width: 100%;overflow: auto;}#sk-container-id-1 input.sk-toggleable__control:checked~label.sk-toggleable__label-arrow:before {content: \"▾\";}#sk-container-id-1 div.sk-estimator input.sk-toggleable__control:checked~label.sk-toggleable__label {background-color: #d4ebff;}#sk-container-id-1 div.sk-label input.sk-toggleable__control:checked~label.sk-toggleable__label {background-color: #d4ebff;}#sk-container-id-1 input.sk-hidden--visually {border: 0;clip: rect(1px 1px 1px 1px);clip: rect(1px, 1px, 1px, 1px);height: 1px;margin: -1px;overflow: hidden;padding: 0;position: absolute;width: 1px;}#sk-container-id-1 div.sk-estimator {font-family: monospace;background-color: #f0f8ff;border: 1px dotted black;border-radius: 0.25em;box-sizing: border-box;margin-bottom: 0.5em;}#sk-container-id-1 div.sk-estimator:hover {background-color: #d4ebff;}#sk-container-id-1 div.sk-parallel-item::after {content: \"\";width: 100%;border-bottom: 1px solid gray;flex-grow: 1;}#sk-container-id-1 div.sk-label:hover label.sk-toggleable__label {background-color: #d4ebff;}#sk-container-id-1 div.sk-serial::before {content: \"\";position: absolute;border-left: 1px solid gray;box-sizing: border-box;top: 0;bottom: 0;left: 50%;z-index: 0;}#sk-container-id-1 div.sk-serial {display: flex;flex-direction: column;align-items: center;background-color: white;padding-right: 0.2em;padding-left: 0.2em;position: relative;}#sk-container-id-1 div.sk-item {position: relative;z-index: 1;}#sk-container-id-1 div.sk-parallel {display: flex;align-items: stretch;justify-content: center;background-color: white;position: relative;}#sk-container-id-1 div.sk-item::before, #sk-container-id-1 div.sk-parallel-item::before {content: \"\";position: absolute;border-left: 1px solid gray;box-sizing: border-box;top: 0;bottom: 0;left: 50%;z-index: -1;}#sk-container-id-1 div.sk-parallel-item {display: flex;flex-direction: column;z-index: 1;position: relative;background-color: white;}#sk-container-id-1 div.sk-parallel-item:first-child::after {align-self: flex-end;width: 50%;}#sk-container-id-1 div.sk-parallel-item:last-child::after {align-self: flex-start;width: 50%;}#sk-container-id-1 div.sk-parallel-item:only-child::after {width: 0;}#sk-container-id-1 div.sk-dashed-wrapped {border: 1px dashed gray;margin: 0 0.4em 0.5em 0.4em;box-sizing: border-box;padding-bottom: 0.4em;background-color: white;}#sk-container-id-1 div.sk-label label {font-family: monospace;font-weight: bold;display: inline-block;line-height: 1.2em;}#sk-container-id-1 div.sk-label-container {text-align: center;}#sk-container-id-1 div.sk-container {/* jupyter's `normalize.less` sets `[hidden] { display: none; }` but bootstrap.min.css set `[hidden] { display: none !important; }` so we also need the `!important` here to be able to override the default hidden behavior on the sphinx rendered scikit-learn.org. See: https://github.com/scikit-learn/scikit-learn/issues/21755 */display: inline-block !important;position: relative;}#sk-container-id-1 div.sk-text-repr-fallback {display: none;}</style><div id=\"sk-container-id-1\" class=\"sk-top-container\"><div class=\"sk-text-repr-fallback\"><pre>GridSearchCV(cv=5,\n",
       "             estimator=Pipeline(steps=[(&#x27;clf&#x27;, DecisionTreeClassifier())]),\n",
       "             n_jobs=16,\n",
       "             param_grid={&#x27;clf__max_depth&#x27;: [None, 10, 20, 30],\n",
       "                         &#x27;clf__min_samples_leaf&#x27;: [1, 2, 4],\n",
       "                         &#x27;clf__min_samples_split&#x27;: [2, 5, 10]},\n",
       "             scoring=&#x27;accuracy&#x27;)</pre><b>In a Jupyter environment, please rerun this cell to show the HTML representation or trust the notebook. <br />On GitHub, the HTML representation is unable to render, please try loading this page with nbviewer.org.</b></div><div class=\"sk-container\" hidden><div class=\"sk-item sk-dashed-wrapped\"><div class=\"sk-label-container\"><div class=\"sk-label sk-toggleable\"><input class=\"sk-toggleable__control sk-hidden--visually\" id=\"sk-estimator-id-1\" type=\"checkbox\" ><label for=\"sk-estimator-id-1\" class=\"sk-toggleable__label sk-toggleable__label-arrow\">GridSearchCV</label><div class=\"sk-toggleable__content\"><pre>GridSearchCV(cv=5,\n",
       "             estimator=Pipeline(steps=[(&#x27;clf&#x27;, DecisionTreeClassifier())]),\n",
       "             n_jobs=16,\n",
       "             param_grid={&#x27;clf__max_depth&#x27;: [None, 10, 20, 30],\n",
       "                         &#x27;clf__min_samples_leaf&#x27;: [1, 2, 4],\n",
       "                         &#x27;clf__min_samples_split&#x27;: [2, 5, 10]},\n",
       "             scoring=&#x27;accuracy&#x27;)</pre></div></div></div><div class=\"sk-parallel\"><div class=\"sk-parallel-item\"><div class=\"sk-item\"><div class=\"sk-label-container\"><div class=\"sk-label sk-toggleable\"><input class=\"sk-toggleable__control sk-hidden--visually\" id=\"sk-estimator-id-2\" type=\"checkbox\" ><label for=\"sk-estimator-id-2\" class=\"sk-toggleable__label sk-toggleable__label-arrow\">estimator: Pipeline</label><div class=\"sk-toggleable__content\"><pre>Pipeline(steps=[(&#x27;clf&#x27;, DecisionTreeClassifier())])</pre></div></div></div><div class=\"sk-serial\"><div class=\"sk-item\"><div class=\"sk-serial\"><div class=\"sk-item\"><div class=\"sk-estimator sk-toggleable\"><input class=\"sk-toggleable__control sk-hidden--visually\" id=\"sk-estimator-id-3\" type=\"checkbox\" ><label for=\"sk-estimator-id-3\" class=\"sk-toggleable__label sk-toggleable__label-arrow\">DecisionTreeClassifier</label><div class=\"sk-toggleable__content\"><pre>DecisionTreeClassifier()</pre></div></div></div></div></div></div></div></div></div></div></div></div>"
      ],
      "text/plain": [
       "GridSearchCV(cv=5,\n",
       "             estimator=Pipeline(steps=[('clf', DecisionTreeClassifier())]),\n",
       "             n_jobs=16,\n",
       "             param_grid={'clf__max_depth': [None, 10, 20, 30],\n",
       "                         'clf__min_samples_leaf': [1, 2, 4],\n",
       "                         'clf__min_samples_split': [2, 5, 10]},\n",
       "             scoring='accuracy')"
      ]
     },
     "execution_count": 9,
     "metadata": {},
     "output_type": "execute_result"
    }
   ],
   "source": [
    "%%time\n",
    "\n",
    "# Обучение модели на обучающем наборе\n",
    "grid_search.fit(X_train, y_train)"
   ]
  },
  {
   "cell_type": "code",
   "execution_count": 10,
   "id": "1b1d5996",
   "metadata": {},
   "outputs": [
    {
     "name": "stdout",
     "output_type": "stream",
     "text": [
      "Наилучшие гиперпараметры:\n",
      "{'clf__max_depth': None, 'clf__min_samples_leaf': 1, 'clf__min_samples_split': 2}\n",
      "Матрица ошибок:\n",
      " [[27791  1878]\n",
      " [15133 55189]]\n",
      "Точность: 0.829874688721985\n",
      "Отчет о классификации:\n",
      "              precision    recall  f1-score   support\n",
      "\n",
      "          No       0.65      0.94      0.77     29669\n",
      "         Yes       0.97      0.78      0.87     70322\n",
      "\n",
      "    accuracy                           0.83     99991\n",
      "   macro avg       0.81      0.86      0.82     99991\n",
      "weighted avg       0.87      0.83      0.84     99991\n",
      "\n",
      "CPU times: total: 5.52 s\n",
      "Wall time: 6.29 s\n"
     ]
    }
   ],
   "source": [
    "%%time\n",
    "# Вывод наилучших гиперпараметров\n",
    "print(\"Наилучшие гиперпараметры:\")\n",
    "print(grid_search.best_params_)\n",
    "\n",
    "y_pred = grid_search.predict(X_test)\n",
    "print(\"Матрица ошибок:\\n\", confusion_matrix(y_test, y_pred))\n",
    "print(\"Точность:\", accuracy_score(y_test, y_pred))\n",
    "print(\"Отчет о классификации:\")\n",
    "print(classification_report(y_test, y_pred))"
   ]
  },
  {
   "cell_type": "markdown",
   "id": "78db40ff",
   "metadata": {},
   "source": [
    "### Случайный лес"
   ]
  },
  {
   "cell_type": "code",
   "execution_count": 11,
   "id": "c3328d81",
   "metadata": {},
   "outputs": [],
   "source": [
    "# Определение модели случайного леса\n",
    "pipeline = Pipeline([\n",
    "    ('clf', RandomForestClassifier())\n",
    "])\n",
    "\n",
    "# Задание сетки гиперпараметров для поиска с помощью GridSearchCV\n",
    "param_grid = {\n",
    "    'clf__n_estimators': [50, 100, 200],\n",
    "    'clf__max_depth': [None, 10, 20, 30],\n",
    "    'clf__min_samples_split': [2, 5, 10],\n",
    "    'clf__min_samples_leaf': [1, 2, 4]\n",
    "}\n",
    "\n",
    "# Создание экземпляра GridSearchCV\n",
    "grid_search = GridSearchCV(\n",
    "    pipeline, \n",
    "    param_grid, \n",
    "    cv=5, \n",
    "    scoring='accuracy',\n",
    "    n_jobs=16\n",
    ")"
   ]
  },
  {
   "cell_type": "code",
   "execution_count": 12,
   "id": "fa2db0e0",
   "metadata": {},
   "outputs": [
    {
     "name": "stderr",
     "output_type": "stream",
     "text": [
      "C:\\ProgramData\\anaconda3\\Lib\\site-packages\\sklearn\\model_selection\\_split.py:725: UserWarning: The least populated class in y has only 4 members, which is less than n_splits=5.\n",
      "  warnings.warn(\n"
     ]
    },
    {
     "name": "stdout",
     "output_type": "stream",
     "text": [
      "Наилучшие гиперпараметры:\n",
      "{'clf__max_depth': None, 'clf__min_samples_leaf': 1, 'clf__min_samples_split': 2, 'clf__n_estimators': 50}\n",
      "CPU times: total: 1.48 s\n",
      "Wall time: 43 s\n"
     ]
    }
   ],
   "source": [
    "%%time\n",
    "# Обучение модели на обучающем наборе\n",
    "grid_search.fit(X_train, y_train)\n",
    "# Вывод наилучших гиперпараметров\n",
    "print(\"Наилучшие гиперпараметры:\")\n",
    "print(grid_search.best_params_)"
   ]
  },
  {
   "cell_type": "code",
   "execution_count": 13,
   "id": "35462029",
   "metadata": {},
   "outputs": [
    {
     "name": "stdout",
     "output_type": "stream",
     "text": [
      "Матрица ошибок:\n",
      " [[29656    13]\n",
      " [  550 69772]]\n",
      "Точность: 0.9943694932543929\n",
      "Отчет о классификации:\n",
      "              precision    recall  f1-score   support\n",
      "\n",
      "          No       0.98      1.00      0.99     29669\n",
      "         Yes       1.00      0.99      1.00     70322\n",
      "\n",
      "    accuracy                           0.99     99991\n",
      "   macro avg       0.99      1.00      0.99     99991\n",
      "weighted avg       0.99      0.99      0.99     99991\n",
      "\n",
      "CPU times: total: 6.02 s\n",
      "Wall time: 6.45 s\n"
     ]
    }
   ],
   "source": [
    "%%time\n",
    "# Предсказание меток классов на тестовом наборе данных\n",
    "y_pred = grid_search.predict(X_test)\n",
    "\n",
    "print(\"Матрица ошибок:\\n\", confusion_matrix(y_test, y_pred))\n",
    "\n",
    "print(\"Точность:\", accuracy_score(y_test, y_pred))\n",
    "\n",
    "print(\"Отчет о классификации:\")\n",
    "print(classification_report(y_test, y_pred))"
   ]
  }
 ],
 "metadata": {
  "kernelspec": {
   "display_name": "Python 3 (ipykernel)",
   "language": "python",
   "name": "python3"
  },
  "language_info": {
   "codemirror_mode": {
    "name": "ipython",
    "version": 3
   },
   "file_extension": ".py",
   "mimetype": "text/x-python",
   "name": "python",
   "nbconvert_exporter": "python",
   "pygments_lexer": "ipython3",
   "version": "3.11.4"
  }
 },
 "nbformat": 4,
 "nbformat_minor": 5
}
