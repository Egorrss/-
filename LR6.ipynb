{
 "cells": [
  {
   "cell_type": "markdown",
   "id": "e0aa687e",
   "metadata": {},
   "source": [
    "# Лабораторная работа №6"
   ]
  },
  {
   "cell_type": "markdown",
   "id": "93d46b51",
   "metadata": {},
   "source": [
    "## Задание 1 \n",
    "###### Провести классификацию найденного датасета, методами CatBoost . В формате Markdown написать пояснения. Объяснить почему были выбраны именно такие гиперпараметры, была ли перекрестная проверка, и т.д."
   ]
  },
  {
   "cell_type": "markdown",
   "id": "ae99bea4",
   "metadata": {},
   "source": [
    "датасет: [Homicide Reports, 1980-2014](https://www.kaggle.com/datasets/murderaccountability/homicide-reports)"
   ]
  },
  {
   "cell_type": "markdown",
   "id": "7f17d7ba",
   "metadata": {},
   "source": [
    "### Загрузка Библиотек"
   ]
  },
  {
   "cell_type": "code",
   "execution_count": 1,
   "id": "a6b3b1bb",
   "metadata": {},
   "outputs": [
    {
     "name": "stdout",
     "output_type": "stream",
     "text": [
      "Defaulting to user installation because normal site-packages is not writeable\n",
      "Requirement already satisfied: catboost in c:\\users\\egor\\appdata\\roaming\\python\\python311\\site-packages (1.2.5)\n",
      "Requirement already satisfied: graphviz in c:\\users\\egor\\appdata\\roaming\\python\\python311\\site-packages (from catboost) (0.20.3)\n",
      "Requirement already satisfied: matplotlib in c:\\programdata\\anaconda3\\lib\\site-packages (from catboost) (3.7.1)\n",
      "Requirement already satisfied: numpy>=1.16.0 in c:\\programdata\\anaconda3\\lib\\site-packages (from catboost) (1.24.3)\n",
      "Requirement already satisfied: pandas>=0.24 in c:\\programdata\\anaconda3\\lib\\site-packages (from catboost) (1.5.3)\n",
      "Requirement already satisfied: scipy in c:\\programdata\\anaconda3\\lib\\site-packages (from catboost) (1.10.1)\n",
      "Requirement already satisfied: plotly in c:\\programdata\\anaconda3\\lib\\site-packages (from catboost) (5.9.0)\n",
      "Requirement already satisfied: six in c:\\programdata\\anaconda3\\lib\\site-packages (from catboost) (1.16.0)\n",
      "Requirement already satisfied: python-dateutil>=2.8.1 in c:\\programdata\\anaconda3\\lib\\site-packages (from pandas>=0.24->catboost) (2.8.2)\n",
      "Requirement already satisfied: pytz>=2020.1 in c:\\programdata\\anaconda3\\lib\\site-packages (from pandas>=0.24->catboost) (2022.7)\n",
      "Requirement already satisfied: contourpy>=1.0.1 in c:\\programdata\\anaconda3\\lib\\site-packages (from matplotlib->catboost) (1.0.5)\n",
      "Requirement already satisfied: cycler>=0.10 in c:\\programdata\\anaconda3\\lib\\site-packages (from matplotlib->catboost) (0.11.0)\n",
      "Requirement already satisfied: fonttools>=4.22.0 in c:\\programdata\\anaconda3\\lib\\site-packages (from matplotlib->catboost) (4.25.0)\n",
      "Requirement already satisfied: kiwisolver>=1.0.1 in c:\\programdata\\anaconda3\\lib\\site-packages (from matplotlib->catboost) (1.4.4)\n",
      "Requirement already satisfied: packaging>=20.0 in c:\\programdata\\anaconda3\\lib\\site-packages (from matplotlib->catboost) (23.0)\n",
      "Requirement already satisfied: pillow>=6.2.0 in c:\\programdata\\anaconda3\\lib\\site-packages (from matplotlib->catboost) (9.4.0)\n",
      "Requirement already satisfied: pyparsing>=2.3.1 in c:\\programdata\\anaconda3\\lib\\site-packages (from matplotlib->catboost) (3.0.9)\n",
      "Requirement already satisfied: tenacity>=6.2.0 in c:\\programdata\\anaconda3\\lib\\site-packages (from plotly->catboost) (8.2.2)\n"
     ]
    }
   ],
   "source": [
    "!pip install catboost"
   ]
  },
  {
   "cell_type": "code",
   "execution_count": 2,
   "id": "07de0f00",
   "metadata": {},
   "outputs": [],
   "source": [
    "import pandas as pd\n",
    "import numpy as np\n",
    "from catboost import CatBoostClassifier, Pool, cv\n",
    "from sklearn.model_selection import train_test_split, cross_val_score, GridSearchCV\n",
    "from sklearn.metrics import accuracy_score, classification_report, confusion_matrix\n",
    "from sklearn.preprocessing import StandardScaler\n"
   ]
  },
  {
   "cell_type": "markdown",
   "id": "9a65f3a4",
   "metadata": {},
   "source": [
    "### Загрузка данных и предварительная обработка\n",
    "###### Загрузка данных"
   ]
  },
  {
   "cell_type": "code",
   "execution_count": 3,
   "id": "aa8861ae",
   "metadata": {},
   "outputs": [],
   "source": [
    "N      = 100000 \n",
    "N_test = 0.99992 "
   ]
  },
  {
   "cell_type": "code",
   "execution_count": 4,
   "id": "7ff2ca15",
   "metadata": {},
   "outputs": [
    {
     "data": {
      "text/html": [
       "<div>\n",
       "<style scoped>\n",
       "    .dataframe tbody tr th:only-of-type {\n",
       "        vertical-align: middle;\n",
       "    }\n",
       "\n",
       "    .dataframe tbody tr th {\n",
       "        vertical-align: top;\n",
       "    }\n",
       "\n",
       "    .dataframe thead th {\n",
       "        text-align: right;\n",
       "    }\n",
       "</style>\n",
       "<table border=\"1\" class=\"dataframe\">\n",
       "  <thead>\n",
       "    <tr style=\"text-align: right;\">\n",
       "      <th></th>\n",
       "      <th>Incident</th>\n",
       "      <th>Crime Type</th>\n",
       "      <th>Crime Solved</th>\n",
       "      <th>Victim Sex</th>\n",
       "      <th>Victim Age</th>\n",
       "      <th>Victim Race</th>\n",
       "      <th>Victim Ethnicity</th>\n",
       "      <th>Perpetrator Sex</th>\n",
       "      <th>Perpetrator Age</th>\n",
       "      <th>Perpetrator Race</th>\n",
       "      <th>Perpetrator Ethnicity</th>\n",
       "      <th>Relationship</th>\n",
       "      <th>Weapon</th>\n",
       "      <th>Victim Count</th>\n",
       "      <th>Perpetrator Count</th>\n",
       "    </tr>\n",
       "  </thead>\n",
       "  <tbody>\n",
       "    <tr>\n",
       "      <th>484984</th>\n",
       "      <td>1</td>\n",
       "      <td>Murder or Manslaughter</td>\n",
       "      <td>No</td>\n",
       "      <td>Male</td>\n",
       "      <td>18</td>\n",
       "      <td>White</td>\n",
       "      <td>Hispanic</td>\n",
       "      <td>Unknown</td>\n",
       "      <td>0</td>\n",
       "      <td>Unknown</td>\n",
       "      <td>Unknown</td>\n",
       "      <td>Unknown</td>\n",
       "      <td>Handgun</td>\n",
       "      <td>1</td>\n",
       "      <td>0</td>\n",
       "    </tr>\n",
       "    <tr>\n",
       "      <th>608445</th>\n",
       "      <td>3</td>\n",
       "      <td>Murder or Manslaughter</td>\n",
       "      <td>No</td>\n",
       "      <td>Male</td>\n",
       "      <td>27</td>\n",
       "      <td>White</td>\n",
       "      <td>Not Hispanic</td>\n",
       "      <td>Unknown</td>\n",
       "      <td>0</td>\n",
       "      <td>Unknown</td>\n",
       "      <td>Unknown</td>\n",
       "      <td>Unknown</td>\n",
       "      <td>Firearm</td>\n",
       "      <td>0</td>\n",
       "      <td>0</td>\n",
       "    </tr>\n",
       "    <tr>\n",
       "      <th>417612</th>\n",
       "      <td>1</td>\n",
       "      <td>Murder or Manslaughter</td>\n",
       "      <td>Yes</td>\n",
       "      <td>Male</td>\n",
       "      <td>42</td>\n",
       "      <td>Black</td>\n",
       "      <td>Not Hispanic</td>\n",
       "      <td>Male</td>\n",
       "      <td>18</td>\n",
       "      <td>Black</td>\n",
       "      <td>Not Hispanic</td>\n",
       "      <td>Acquaintance</td>\n",
       "      <td>Handgun</td>\n",
       "      <td>0</td>\n",
       "      <td>0</td>\n",
       "    </tr>\n",
       "    <tr>\n",
       "      <th>372692</th>\n",
       "      <td>6</td>\n",
       "      <td>Murder or Manslaughter</td>\n",
       "      <td>No</td>\n",
       "      <td>Male</td>\n",
       "      <td>44</td>\n",
       "      <td>White</td>\n",
       "      <td>Not Hispanic</td>\n",
       "      <td>Unknown</td>\n",
       "      <td>0</td>\n",
       "      <td>Unknown</td>\n",
       "      <td>Unknown</td>\n",
       "      <td>Unknown</td>\n",
       "      <td>Handgun</td>\n",
       "      <td>0</td>\n",
       "      <td>0</td>\n",
       "    </tr>\n",
       "    <tr>\n",
       "      <th>402028</th>\n",
       "      <td>1</td>\n",
       "      <td>Murder or Manslaughter</td>\n",
       "      <td>Yes</td>\n",
       "      <td>Female</td>\n",
       "      <td>15</td>\n",
       "      <td>White</td>\n",
       "      <td>Unknown</td>\n",
       "      <td>Male</td>\n",
       "      <td>20</td>\n",
       "      <td>White</td>\n",
       "      <td>Unknown</td>\n",
       "      <td>Girlfriend</td>\n",
       "      <td>Rifle</td>\n",
       "      <td>0</td>\n",
       "      <td>0</td>\n",
       "    </tr>\n",
       "  </tbody>\n",
       "</table>\n",
       "</div>"
      ],
      "text/plain": [
       "        Incident              Crime Type Crime Solved Victim Sex  Victim Age  \\\n",
       "484984         1  Murder or Manslaughter           No       Male          18   \n",
       "608445         3  Murder or Manslaughter           No       Male          27   \n",
       "417612         1  Murder or Manslaughter          Yes       Male          42   \n",
       "372692         6  Murder or Manslaughter           No       Male          44   \n",
       "402028         1  Murder or Manslaughter          Yes     Female          15   \n",
       "\n",
       "       Victim Race Victim Ethnicity Perpetrator Sex Perpetrator Age  \\\n",
       "484984       White         Hispanic         Unknown               0   \n",
       "608445       White     Not Hispanic         Unknown               0   \n",
       "417612       Black     Not Hispanic            Male              18   \n",
       "372692       White     Not Hispanic         Unknown               0   \n",
       "402028       White          Unknown            Male              20   \n",
       "\n",
       "       Perpetrator Race Perpetrator Ethnicity  Relationship   Weapon  \\\n",
       "484984          Unknown               Unknown       Unknown  Handgun   \n",
       "608445          Unknown               Unknown       Unknown  Firearm   \n",
       "417612            Black          Not Hispanic  Acquaintance  Handgun   \n",
       "372692          Unknown               Unknown       Unknown  Handgun   \n",
       "402028            White               Unknown    Girlfriend    Rifle   \n",
       "\n",
       "        Victim Count  Perpetrator Count  \n",
       "484984             1                  0  \n",
       "608445             0                  0  \n",
       "417612             0                  0  \n",
       "372692             0                  0  \n",
       "402028             0                  0  "
      ]
     },
     "execution_count": 4,
     "metadata": {},
     "output_type": "execute_result"
    }
   ],
   "source": [
    "data = pd.read_csv('database.csv',low_memory=False)\n",
    "subset_data = data.sample(n=N, random_state=42)\n",
    "# Исключение ненужных столбцов\n",
    "columns_to_drop = ['Record ID', 'Agency Code', 'Agency Name', 'Agency Type', 'City', 'State', 'Year', 'Month', 'Record Source']\n",
    "subset_data = subset_data.drop(columns=columns_to_drop)\n",
    "\n",
    "subset_data.dropna(inplace=True) # Удаление записей с пропущенными значениями\n",
    "subset_data.head()"
   ]
  },
  {
   "cell_type": "markdown",
   "id": "7be457b5",
   "metadata": {},
   "source": [
    "###### Выбор признаков и целевой переменной"
   ]
  },
  {
   "cell_type": "code",
   "execution_count": 5,
   "id": "5cb9cb71",
   "metadata": {},
   "outputs": [],
   "source": [
    "X = subset_data.drop(columns=['Crime Solved'])\n",
    "y = subset_data['Crime Solved']"
   ]
  },
  {
   "cell_type": "markdown",
   "id": "074125bc",
   "metadata": {},
   "source": [
    "###### Преобразование категориальных признаков в числовые"
   ]
  },
  {
   "cell_type": "code",
   "execution_count": 6,
   "id": "47f0dd98",
   "metadata": {},
   "outputs": [],
   "source": [
    "X = pd.get_dummies(X)"
   ]
  },
  {
   "cell_type": "code",
   "execution_count": 7,
   "id": "b006b85d",
   "metadata": {},
   "outputs": [],
   "source": [
    "# Масштабирование данных\n",
    "scaler = StandardScaler()\n",
    "X_scaled = scaler.fit_transform(X)"
   ]
  },
  {
   "cell_type": "markdown",
   "id": "38c0c843",
   "metadata": {},
   "source": [
    "### Разделение данных на тренировочную и тестовую выборки"
   ]
  },
  {
   "cell_type": "code",
   "execution_count": 8,
   "id": "0aaa9911",
   "metadata": {},
   "outputs": [],
   "source": [
    "X_train, X_test, y_train, y_test = train_test_split(X_scaled, y, test_size=N_test, random_state=42)"
   ]
  },
  {
   "cell_type": "markdown",
   "id": "5ccd6a12",
   "metadata": {},
   "source": [
    "### Построение и оценка модели"
   ]
  },
  {
   "cell_type": "code",
   "execution_count": 9,
   "id": "bbf9c8b1",
   "metadata": {},
   "outputs": [],
   "source": [
    "# Определение модели\n",
    "model = CatBoostClassifier(silent=True)\n",
    "\n",
    "# Определение сетки гиперпараметров для поиска\n",
    "param_grid = {\n",
    "    'depth': [6, 8, 10],\n",
    "    'learning_rate': [0.01, 0.1, 0.2],\n",
    "    'iterations': [100, 200, 300]\n",
    "}\n",
    "\n",
    "# Настройка GridSearchCV\n",
    "grid_search = GridSearchCV(\n",
    "    estimator=model, \n",
    "    param_grid=param_grid, \n",
    "    cv=3, \n",
    "    scoring='accuracy', \n",
    "    n_jobs=-1\n",
    ")"
   ]
  },
  {
   "cell_type": "code",
   "execution_count": 10,
   "id": "555b2669",
   "metadata": {},
   "outputs": [
    {
     "name": "stdout",
     "output_type": "stream",
     "text": [
      "CPU times: total: 969 ms\n",
      "Wall time: 11.8 s\n"
     ]
    },
    {
     "data": {
      "text/html": [
       "<style>#sk-container-id-1 {color: black;}#sk-container-id-1 pre{padding: 0;}#sk-container-id-1 div.sk-toggleable {background-color: white;}#sk-container-id-1 label.sk-toggleable__label {cursor: pointer;display: block;width: 100%;margin-bottom: 0;padding: 0.3em;box-sizing: border-box;text-align: center;}#sk-container-id-1 label.sk-toggleable__label-arrow:before {content: \"▸\";float: left;margin-right: 0.25em;color: #696969;}#sk-container-id-1 label.sk-toggleable__label-arrow:hover:before {color: black;}#sk-container-id-1 div.sk-estimator:hover label.sk-toggleable__label-arrow:before {color: black;}#sk-container-id-1 div.sk-toggleable__content {max-height: 0;max-width: 0;overflow: hidden;text-align: left;background-color: #f0f8ff;}#sk-container-id-1 div.sk-toggleable__content pre {margin: 0.2em;color: black;border-radius: 0.25em;background-color: #f0f8ff;}#sk-container-id-1 input.sk-toggleable__control:checked~div.sk-toggleable__content {max-height: 200px;max-width: 100%;overflow: auto;}#sk-container-id-1 input.sk-toggleable__control:checked~label.sk-toggleable__label-arrow:before {content: \"▾\";}#sk-container-id-1 div.sk-estimator input.sk-toggleable__control:checked~label.sk-toggleable__label {background-color: #d4ebff;}#sk-container-id-1 div.sk-label input.sk-toggleable__control:checked~label.sk-toggleable__label {background-color: #d4ebff;}#sk-container-id-1 input.sk-hidden--visually {border: 0;clip: rect(1px 1px 1px 1px);clip: rect(1px, 1px, 1px, 1px);height: 1px;margin: -1px;overflow: hidden;padding: 0;position: absolute;width: 1px;}#sk-container-id-1 div.sk-estimator {font-family: monospace;background-color: #f0f8ff;border: 1px dotted black;border-radius: 0.25em;box-sizing: border-box;margin-bottom: 0.5em;}#sk-container-id-1 div.sk-estimator:hover {background-color: #d4ebff;}#sk-container-id-1 div.sk-parallel-item::after {content: \"\";width: 100%;border-bottom: 1px solid gray;flex-grow: 1;}#sk-container-id-1 div.sk-label:hover label.sk-toggleable__label {background-color: #d4ebff;}#sk-container-id-1 div.sk-serial::before {content: \"\";position: absolute;border-left: 1px solid gray;box-sizing: border-box;top: 0;bottom: 0;left: 50%;z-index: 0;}#sk-container-id-1 div.sk-serial {display: flex;flex-direction: column;align-items: center;background-color: white;padding-right: 0.2em;padding-left: 0.2em;position: relative;}#sk-container-id-1 div.sk-item {position: relative;z-index: 1;}#sk-container-id-1 div.sk-parallel {display: flex;align-items: stretch;justify-content: center;background-color: white;position: relative;}#sk-container-id-1 div.sk-item::before, #sk-container-id-1 div.sk-parallel-item::before {content: \"\";position: absolute;border-left: 1px solid gray;box-sizing: border-box;top: 0;bottom: 0;left: 50%;z-index: -1;}#sk-container-id-1 div.sk-parallel-item {display: flex;flex-direction: column;z-index: 1;position: relative;background-color: white;}#sk-container-id-1 div.sk-parallel-item:first-child::after {align-self: flex-end;width: 50%;}#sk-container-id-1 div.sk-parallel-item:last-child::after {align-self: flex-start;width: 50%;}#sk-container-id-1 div.sk-parallel-item:only-child::after {width: 0;}#sk-container-id-1 div.sk-dashed-wrapped {border: 1px dashed gray;margin: 0 0.4em 0.5em 0.4em;box-sizing: border-box;padding-bottom: 0.4em;background-color: white;}#sk-container-id-1 div.sk-label label {font-family: monospace;font-weight: bold;display: inline-block;line-height: 1.2em;}#sk-container-id-1 div.sk-label-container {text-align: center;}#sk-container-id-1 div.sk-container {/* jupyter's `normalize.less` sets `[hidden] { display: none; }` but bootstrap.min.css set `[hidden] { display: none !important; }` so we also need the `!important` here to be able to override the default hidden behavior on the sphinx rendered scikit-learn.org. See: https://github.com/scikit-learn/scikit-learn/issues/21755 */display: inline-block !important;position: relative;}#sk-container-id-1 div.sk-text-repr-fallback {display: none;}</style><div id=\"sk-container-id-1\" class=\"sk-top-container\"><div class=\"sk-text-repr-fallback\"><pre>GridSearchCV(cv=3,\n",
       "             estimator=&lt;catboost.core.CatBoostClassifier object at 0x000001F3DE413050&gt;,\n",
       "             n_jobs=-1,\n",
       "             param_grid={&#x27;depth&#x27;: [6, 8, 10], &#x27;iterations&#x27;: [100, 200, 300],\n",
       "                         &#x27;learning_rate&#x27;: [0.01, 0.1, 0.2]},\n",
       "             scoring=&#x27;accuracy&#x27;)</pre><b>In a Jupyter environment, please rerun this cell to show the HTML representation or trust the notebook. <br />On GitHub, the HTML representation is unable to render, please try loading this page with nbviewer.org.</b></div><div class=\"sk-container\" hidden><div class=\"sk-item sk-dashed-wrapped\"><div class=\"sk-label-container\"><div class=\"sk-label sk-toggleable\"><input class=\"sk-toggleable__control sk-hidden--visually\" id=\"sk-estimator-id-1\" type=\"checkbox\" ><label for=\"sk-estimator-id-1\" class=\"sk-toggleable__label sk-toggleable__label-arrow\">GridSearchCV</label><div class=\"sk-toggleable__content\"><pre>GridSearchCV(cv=3,\n",
       "             estimator=&lt;catboost.core.CatBoostClassifier object at 0x000001F3DE413050&gt;,\n",
       "             n_jobs=-1,\n",
       "             param_grid={&#x27;depth&#x27;: [6, 8, 10], &#x27;iterations&#x27;: [100, 200, 300],\n",
       "                         &#x27;learning_rate&#x27;: [0.01, 0.1, 0.2]},\n",
       "             scoring=&#x27;accuracy&#x27;)</pre></div></div></div><div class=\"sk-parallel\"><div class=\"sk-parallel-item\"><div class=\"sk-item\"><div class=\"sk-label-container\"><div class=\"sk-label sk-toggleable\"><input class=\"sk-toggleable__control sk-hidden--visually\" id=\"sk-estimator-id-2\" type=\"checkbox\" ><label for=\"sk-estimator-id-2\" class=\"sk-toggleable__label sk-toggleable__label-arrow\">estimator: CatBoostClassifier</label><div class=\"sk-toggleable__content\"><pre>&lt;catboost.core.CatBoostClassifier object at 0x000001F3DE413050&gt;</pre></div></div></div><div class=\"sk-serial\"><div class=\"sk-item\"><div class=\"sk-estimator sk-toggleable\"><input class=\"sk-toggleable__control sk-hidden--visually\" id=\"sk-estimator-id-3\" type=\"checkbox\" ><label for=\"sk-estimator-id-3\" class=\"sk-toggleable__label sk-toggleable__label-arrow\">CatBoostClassifier</label><div class=\"sk-toggleable__content\"><pre>&lt;catboost.core.CatBoostClassifier object at 0x000001F3DE413050&gt;</pre></div></div></div></div></div></div></div></div></div></div>"
      ],
      "text/plain": [
       "GridSearchCV(cv=3,\n",
       "             estimator=<catboost.core.CatBoostClassifier object at 0x000001F3DE413050>,\n",
       "             n_jobs=-1,\n",
       "             param_grid={'depth': [6, 8, 10], 'iterations': [100, 200, 300],\n",
       "                         'learning_rate': [0.01, 0.1, 0.2]},\n",
       "             scoring='accuracy')"
      ]
     },
     "execution_count": 10,
     "metadata": {},
     "output_type": "execute_result"
    }
   ],
   "source": [
    "%%time\n",
    "# Обучение модели\n",
    "grid_search.fit(X_train, y_train)"
   ]
  },
  {
   "cell_type": "code",
   "execution_count": 11,
   "id": "c2261cb5",
   "metadata": {},
   "outputs": [
    {
     "name": "stdout",
     "output_type": "stream",
     "text": [
      "Наилучшие гиперпараметры:\n",
      "{'depth': 6, 'iterations': 100, 'learning_rate': 0.01}\n"
     ]
    }
   ],
   "source": [
    "# Лучшая модель\n",
    "best_model = grid_search.best_estimator_\n",
    "print(\"Наилучшие гиперпараметры:\")\n",
    "print(grid_search.best_params_)"
   ]
  },
  {
   "cell_type": "code",
   "execution_count": 12,
   "id": "46111e79",
   "metadata": {},
   "outputs": [
    {
     "name": "stdout",
     "output_type": "stream",
     "text": [
      "Матрица ошибок:\n",
      " [[29634    35]\n",
      " [ 2622 67701]]\n",
      "Точность: 0.9734278742299384\n",
      "Отчет о классификации:\n",
      "              precision    recall  f1-score   support\n",
      "\n",
      "          No       0.92      1.00      0.96     29669\n",
      "         Yes       1.00      0.96      0.98     70323\n",
      "\n",
      "    accuracy                           0.97     99992\n",
      "   macro avg       0.96      0.98      0.97     99992\n",
      "weighted avg       0.98      0.97      0.97     99992\n",
      "\n",
      "CPU times: total: 9.75 s\n",
      "Wall time: 9.75 s\n"
     ]
    }
   ],
   "source": [
    "%%time\n",
    "\n",
    "# Предсказание на тестовой выборке\n",
    "y_pred = best_model.predict(X_test)\n",
    "\n",
    "# Оценка модели\n",
    "\n",
    "print(\"Матрица ошибок:\\n\", confusion_matrix(y_test, y_pred))\n",
    "\n",
    "print(\"Точность:\", accuracy_score(y_test, y_pred))\n",
    "\n",
    "print(\"Отчет о классификации:\")\n",
    "print(classification_report(y_test, y_pred))"
   ]
  }
 ],
 "metadata": {
  "kernelspec": {
   "display_name": "Python 3 (ipykernel)",
   "language": "python",
   "name": "python3"
  },
  "language_info": {
   "codemirror_mode": {
    "name": "ipython",
    "version": 3
   },
   "file_extension": ".py",
   "mimetype": "text/x-python",
   "name": "python",
   "nbconvert_exporter": "python",
   "pygments_lexer": "ipython3",
   "version": "3.11.4"
  }
 },
 "nbformat": 4,
 "nbformat_minor": 5
}
