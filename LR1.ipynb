{
 "cells": [
  {
   "cell_type": "markdown",
   "id": "0532fbad",
   "metadata": {},
   "source": [
    "# Лабораторная работа №1"
   ]
  },
  {
   "cell_type": "markdown",
   "id": "c4ce1733",
   "metadata": {},
   "source": [
    "## Задание 1. \n",
    "###### Найти набор данных (датасет) для классификации удовлетворяющий следующим условиям: \n",
    "- более 10 000 строк\n",
    "- более 20 столбцов\n",
    "- разные типы в столбцах \n",
    "- обязательно наличие целевого признака (таргета)."
   ]
  },
  {
   "cell_type": "markdown",
   "id": "f2cb33ff",
   "metadata": {},
   "source": [
    "Был выбран датасет: [Homicide Reports, 1980-2014](https://www.kaggle.com/datasets/murderaccountability/homicide-reports)\n"
   ]
  },
  {
   "cell_type": "markdown",
   "id": "45a3144e",
   "metadata": {},
   "source": [
    "### About Dataset:\n",
    "The Murder Accountability Project is the most complete database of homicides in the United States currently available. This dataset includes murders from the FBI's Supplementary Homicide Report from 1976 to the present and Freedom of Information Act data on more than 22,000 homicides that were not reported to the Justice Department. This dataset includes the age, race, sex, ethnicity of victims and perpetrators, in addition to the relationship between the victim and perpetrator and weapon used.\n",
    "\n",
    "Проект \"Убийственная отчетность\" - это самая полная база данных об убийствах в США, существующая на сегодняшний день. В эту базу данных включены данные об убийствах из Дополнительного отчета об убийствах ФБР с 1976 года по настоящее время, а также данные, полученные в соответствии с Законом о свободе информации, о более чем 22 000 убийств, о которых не было сообщено в Министерство юстиции. В этом наборе данных указаны возраст, раса, пол, этническая принадлежность жертв и преступников, а также родственные связи между жертвой и преступником и использованное оружие.\n",
    "\n",
    "### Датасет: \n",
    "- 638 454 записей\n",
    "- 24 столбца \n",
    "- целевой признак - Crime Solved (Раскрытое преступление)"
   ]
  },
  {
   "cell_type": "markdown",
   "id": "a5eef0d9",
   "metadata": {},
   "source": [
    "## Задание 2 . \n",
    "###### Провести классификацию найденного датасета, методом к- ближайших соседей. В формате Markdown писать пояснения. Объяснить почему были выбраны именно такие гиперпараметры, была ли перекрестная проверка, и т.д."
   ]
  },
  {
   "cell_type": "markdown",
   "id": "76365275",
   "metadata": {},
   "source": [
    "### Загрузка Библиотек"
   ]
  },
  {
   "cell_type": "code",
   "execution_count": 1,
   "id": "6dacae56",
   "metadata": {},
   "outputs": [],
   "source": [
    "import pandas as pd\n",
    "import numpy as np\n",
    "from sklearn.model_selection import train_test_split\n",
    "from sklearn.preprocessing import StandardScaler\n",
    "from sklearn.neighbors import KNeighborsClassifier\n",
    "from sklearn.metrics import accuracy_score, classification_report"
   ]
  },
  {
   "cell_type": "markdown",
   "id": "e7b390e3",
   "metadata": {},
   "source": [
    "### Загрузка данных и предварительная обработка\n",
    "###### Загрузка данных"
   ]
  },
  {
   "cell_type": "code",
   "execution_count": 2,
   "id": "e613cd3b",
   "metadata": {},
   "outputs": [],
   "source": [
    "data = pd.read_csv('database.csv',low_memory=False)\n",
    "# Удаление ненужных столбцов\n",
    "data = data.drop(columns=[\"Record ID\", \"Record Source\"])"
   ]
  },
  {
   "cell_type": "markdown",
   "id": "9ad7664f",
   "metadata": {},
   "source": [
    "###### Выбираем случайное подмножество данных, т.к. загруженный датасет содержит 638 454 записей которые будут обрабатываться слишком долго"
   ]
  },
  {
   "cell_type": "code",
   "execution_count": 3,
   "id": "029077a8",
   "metadata": {},
   "outputs": [
    {
     "data": {
      "text/html": [
       "<div>\n",
       "<style scoped>\n",
       "    .dataframe tbody tr th:only-of-type {\n",
       "        vertical-align: middle;\n",
       "    }\n",
       "\n",
       "    .dataframe tbody tr th {\n",
       "        vertical-align: top;\n",
       "    }\n",
       "\n",
       "    .dataframe thead th {\n",
       "        text-align: right;\n",
       "    }\n",
       "</style>\n",
       "<table border=\"1\" class=\"dataframe\">\n",
       "  <thead>\n",
       "    <tr style=\"text-align: right;\">\n",
       "      <th></th>\n",
       "      <th>Agency Code</th>\n",
       "      <th>Agency Name</th>\n",
       "      <th>Agency Type</th>\n",
       "      <th>City</th>\n",
       "      <th>State</th>\n",
       "      <th>Year</th>\n",
       "      <th>Month</th>\n",
       "      <th>Incident</th>\n",
       "      <th>Crime Type</th>\n",
       "      <th>Crime Solved</th>\n",
       "      <th>...</th>\n",
       "      <th>Victim Race</th>\n",
       "      <th>Victim Ethnicity</th>\n",
       "      <th>Perpetrator Sex</th>\n",
       "      <th>Perpetrator Age</th>\n",
       "      <th>Perpetrator Race</th>\n",
       "      <th>Perpetrator Ethnicity</th>\n",
       "      <th>Relationship</th>\n",
       "      <th>Weapon</th>\n",
       "      <th>Victim Count</th>\n",
       "      <th>Perpetrator Count</th>\n",
       "    </tr>\n",
       "  </thead>\n",
       "  <tbody>\n",
       "    <tr>\n",
       "      <th>484984</th>\n",
       "      <td>CA03612</td>\n",
       "      <td>Victorville</td>\n",
       "      <td>Municipal Police</td>\n",
       "      <td>San Bernardino</td>\n",
       "      <td>California</td>\n",
       "      <td>2005</td>\n",
       "      <td>July</td>\n",
       "      <td>1</td>\n",
       "      <td>Murder or Manslaughter</td>\n",
       "      <td>No</td>\n",
       "      <td>...</td>\n",
       "      <td>White</td>\n",
       "      <td>Hispanic</td>\n",
       "      <td>Unknown</td>\n",
       "      <td>0</td>\n",
       "      <td>Unknown</td>\n",
       "      <td>Unknown</td>\n",
       "      <td>Unknown</td>\n",
       "      <td>Handgun</td>\n",
       "      <td>1</td>\n",
       "      <td>0</td>\n",
       "    </tr>\n",
       "    <tr>\n",
       "      <th>608445</th>\n",
       "      <td>TX10100</td>\n",
       "      <td>Harris County</td>\n",
       "      <td>Sheriff</td>\n",
       "      <td>Harris</td>\n",
       "      <td>Texas</td>\n",
       "      <td>2013</td>\n",
       "      <td>May</td>\n",
       "      <td>3</td>\n",
       "      <td>Murder or Manslaughter</td>\n",
       "      <td>No</td>\n",
       "      <td>...</td>\n",
       "      <td>White</td>\n",
       "      <td>Not Hispanic</td>\n",
       "      <td>Unknown</td>\n",
       "      <td>0</td>\n",
       "      <td>Unknown</td>\n",
       "      <td>Unknown</td>\n",
       "      <td>Unknown</td>\n",
       "      <td>Firearm</td>\n",
       "      <td>0</td>\n",
       "      <td>0</td>\n",
       "    </tr>\n",
       "    <tr>\n",
       "      <th>417612</th>\n",
       "      <td>AR06200</td>\n",
       "      <td>St. Francis</td>\n",
       "      <td>Sheriff</td>\n",
       "      <td>St. Francis</td>\n",
       "      <td>Arkansas</td>\n",
       "      <td>2001</td>\n",
       "      <td>June</td>\n",
       "      <td>1</td>\n",
       "      <td>Murder or Manslaughter</td>\n",
       "      <td>Yes</td>\n",
       "      <td>...</td>\n",
       "      <td>Black</td>\n",
       "      <td>Not Hispanic</td>\n",
       "      <td>Male</td>\n",
       "      <td>18</td>\n",
       "      <td>Black</td>\n",
       "      <td>Not Hispanic</td>\n",
       "      <td>Acquaintance</td>\n",
       "      <td>Handgun</td>\n",
       "      <td>0</td>\n",
       "      <td>0</td>\n",
       "    </tr>\n",
       "    <tr>\n",
       "      <th>372692</th>\n",
       "      <td>AZ01003</td>\n",
       "      <td>Tucson</td>\n",
       "      <td>Municipal Police</td>\n",
       "      <td>Pima</td>\n",
       "      <td>Arizona</td>\n",
       "      <td>1998</td>\n",
       "      <td>March</td>\n",
       "      <td>6</td>\n",
       "      <td>Murder or Manslaughter</td>\n",
       "      <td>No</td>\n",
       "      <td>...</td>\n",
       "      <td>White</td>\n",
       "      <td>Not Hispanic</td>\n",
       "      <td>Unknown</td>\n",
       "      <td>0</td>\n",
       "      <td>Unknown</td>\n",
       "      <td>Unknown</td>\n",
       "      <td>Unknown</td>\n",
       "      <td>Handgun</td>\n",
       "      <td>0</td>\n",
       "      <td>0</td>\n",
       "    </tr>\n",
       "    <tr>\n",
       "      <th>402028</th>\n",
       "      <td>WA02400</td>\n",
       "      <td>Okanogan</td>\n",
       "      <td>Sheriff</td>\n",
       "      <td>Okanogan</td>\n",
       "      <td>Washington</td>\n",
       "      <td>1999</td>\n",
       "      <td>August</td>\n",
       "      <td>1</td>\n",
       "      <td>Murder or Manslaughter</td>\n",
       "      <td>Yes</td>\n",
       "      <td>...</td>\n",
       "      <td>White</td>\n",
       "      <td>Unknown</td>\n",
       "      <td>Male</td>\n",
       "      <td>20</td>\n",
       "      <td>White</td>\n",
       "      <td>Unknown</td>\n",
       "      <td>Girlfriend</td>\n",
       "      <td>Rifle</td>\n",
       "      <td>0</td>\n",
       "      <td>0</td>\n",
       "    </tr>\n",
       "  </tbody>\n",
       "</table>\n",
       "<p>5 rows × 22 columns</p>\n",
       "</div>"
      ],
      "text/plain": [
       "       Agency Code    Agency Name       Agency Type            City  \\\n",
       "484984     CA03612    Victorville  Municipal Police  San Bernardino   \n",
       "608445     TX10100  Harris County           Sheriff          Harris   \n",
       "417612     AR06200    St. Francis           Sheriff     St. Francis   \n",
       "372692     AZ01003         Tucson  Municipal Police            Pima   \n",
       "402028     WA02400       Okanogan           Sheriff        Okanogan   \n",
       "\n",
       "             State  Year   Month  Incident              Crime Type  \\\n",
       "484984  California  2005    July         1  Murder or Manslaughter   \n",
       "608445       Texas  2013     May         3  Murder or Manslaughter   \n",
       "417612    Arkansas  2001    June         1  Murder or Manslaughter   \n",
       "372692     Arizona  1998   March         6  Murder or Manslaughter   \n",
       "402028  Washington  1999  August         1  Murder or Manslaughter   \n",
       "\n",
       "       Crime Solved  ... Victim Race  Victim Ethnicity Perpetrator Sex  \\\n",
       "484984           No  ...       White          Hispanic         Unknown   \n",
       "608445           No  ...       White      Not Hispanic         Unknown   \n",
       "417612          Yes  ...       Black      Not Hispanic            Male   \n",
       "372692           No  ...       White      Not Hispanic         Unknown   \n",
       "402028          Yes  ...       White           Unknown            Male   \n",
       "\n",
       "       Perpetrator Age Perpetrator Race Perpetrator Ethnicity  Relationship  \\\n",
       "484984               0          Unknown               Unknown       Unknown   \n",
       "608445               0          Unknown               Unknown       Unknown   \n",
       "417612              18            Black          Not Hispanic  Acquaintance   \n",
       "372692               0          Unknown               Unknown       Unknown   \n",
       "402028              20            White               Unknown    Girlfriend   \n",
       "\n",
       "         Weapon Victim Count Perpetrator Count  \n",
       "484984  Handgun            1                 0  \n",
       "608445  Firearm            0                 0  \n",
       "417612  Handgun            0                 0  \n",
       "372692  Handgun            0                 0  \n",
       "402028    Rifle            0                 0  \n",
       "\n",
       "[5 rows x 22 columns]"
      ]
     },
     "execution_count": 3,
     "metadata": {},
     "output_type": "execute_result"
    }
   ],
   "source": [
    "subset_data = data.sample(n=11000, random_state=42)\n",
    "\n",
    "subset_data.head() # Просмотр первых нескольких строк данных"
   ]
  },
  {
   "cell_type": "markdown",
   "id": "bb4fe445",
   "metadata": {},
   "source": [
    "###### Выбор признаков и целевой переменной"
   ]
  },
  {
   "cell_type": "code",
   "execution_count": 4,
   "id": "58889f19",
   "metadata": {},
   "outputs": [],
   "source": [
    "X = subset_data[['Victim Age', 'Victim Race', 'Victim Sex', 'Perpetrator Age', 'Perpetrator Race', 'Perpetrator Sex']]\n",
    "Y = subset_data['Crime Solved'] "
   ]
  },
  {
   "cell_type": "markdown",
   "id": "e809c3fb",
   "metadata": {},
   "source": [
    "###### Преобразование категориальных признаков в числовые"
   ]
  },
  {
   "cell_type": "code",
   "execution_count": 5,
   "id": "d8eef67e",
   "metadata": {},
   "outputs": [],
   "source": [
    "X = pd.get_dummies(X)"
   ]
  },
  {
   "cell_type": "markdown",
   "id": "7d7a27c0",
   "metadata": {},
   "source": [
    "###### Разделение данных на обучающий и тестовый наборы"
   ]
  },
  {
   "cell_type": "code",
   "execution_count": 6,
   "id": "f20b4f25",
   "metadata": {},
   "outputs": [],
   "source": [
    "X_train, X_test, Y_train, Y_test = train_test_split(X, Y, test_size=0.2, random_state=42)"
   ]
  },
  {
   "cell_type": "markdown",
   "id": "d1a3be2b",
   "metadata": {},
   "source": [
    "###### Масштабирование данных\n",
    "__*fit_transform*__ вычисляет среднее значение и стандартное отклонение для каждого признака на обучающем наборе данных\n",
    "\n",
    "__*transform*__ применяет параметры масштабирования, вычисленные на обучающем наборе данных, к тестовому набору данных"
   ]
  },
  {
   "cell_type": "code",
   "execution_count": 7,
   "id": "a2935e47",
   "metadata": {},
   "outputs": [],
   "source": [
    "scaler = StandardScaler()\n",
    "\n",
    "X_train_scaled = scaler.fit_transform(X_train)\n",
    "X_test_scaled = scaler.transform(X_test)"
   ]
  },
  {
   "cell_type": "markdown",
   "id": "c9ef04f2",
   "metadata": {},
   "source": [
    "###### Создание и обучение модели"
   ]
  },
  {
   "cell_type": "markdown",
   "id": "f21813aa",
   "metadata": {},
   "source": [
    "Проведем перекрестную проверку для модели k-ближайших соседей с разными значениями параметра n_neighbors и выведем результаты для каждого значения:"
   ]
  },
  {
   "cell_type": "code",
   "execution_count": 8,
   "id": "214f38d3",
   "metadata": {},
   "outputs": [
    {
     "name": "stdout",
     "output_type": "stream",
     "text": [
      "n_neighbors = 3, Средняя оценка: 0.9954545454545455\n",
      "n_neighbors = 5, Средняя оценка: 0.9928409090909092\n",
      "n_neighbors = 7, Средняя оценка: 0.9910227272727272\n",
      "n_neighbors = 9, Средняя оценка: 0.9902272727272727\n",
      "n_neighbors = 11, Средняя оценка: 0.9894318181818182\n"
     ]
    }
   ],
   "source": [
    "from sklearn.model_selection import cross_val_score\n",
    "from sklearn.neighbors import KNeighborsClassifier\n",
    "\n",
    "neighbors_list = [3, 5, 7, 9, 11]\n",
    "\n",
    "for n_neighbors in neighbors_list:\n",
    "    knn = KNeighborsClassifier(n_neighbors=n_neighbors)\n",
    "    scores = cross_val_score(knn, X_train_scaled, Y_train, cv=5)\n",
    "    print(f\"n_neighbors = {n_neighbors}, Средняя оценка: {scores.mean()}\")"
   ]
  },
  {
   "cell_type": "code",
   "execution_count": 9,
   "id": "a941d020",
   "metadata": {},
   "outputs": [
    {
     "data": {
      "text/html": [
       "<style>#sk-container-id-1 {color: black;}#sk-container-id-1 pre{padding: 0;}#sk-container-id-1 div.sk-toggleable {background-color: white;}#sk-container-id-1 label.sk-toggleable__label {cursor: pointer;display: block;width: 100%;margin-bottom: 0;padding: 0.3em;box-sizing: border-box;text-align: center;}#sk-container-id-1 label.sk-toggleable__label-arrow:before {content: \"▸\";float: left;margin-right: 0.25em;color: #696969;}#sk-container-id-1 label.sk-toggleable__label-arrow:hover:before {color: black;}#sk-container-id-1 div.sk-estimator:hover label.sk-toggleable__label-arrow:before {color: black;}#sk-container-id-1 div.sk-toggleable__content {max-height: 0;max-width: 0;overflow: hidden;text-align: left;background-color: #f0f8ff;}#sk-container-id-1 div.sk-toggleable__content pre {margin: 0.2em;color: black;border-radius: 0.25em;background-color: #f0f8ff;}#sk-container-id-1 input.sk-toggleable__control:checked~div.sk-toggleable__content {max-height: 200px;max-width: 100%;overflow: auto;}#sk-container-id-1 input.sk-toggleable__control:checked~label.sk-toggleable__label-arrow:before {content: \"▾\";}#sk-container-id-1 div.sk-estimator input.sk-toggleable__control:checked~label.sk-toggleable__label {background-color: #d4ebff;}#sk-container-id-1 div.sk-label input.sk-toggleable__control:checked~label.sk-toggleable__label {background-color: #d4ebff;}#sk-container-id-1 input.sk-hidden--visually {border: 0;clip: rect(1px 1px 1px 1px);clip: rect(1px, 1px, 1px, 1px);height: 1px;margin: -1px;overflow: hidden;padding: 0;position: absolute;width: 1px;}#sk-container-id-1 div.sk-estimator {font-family: monospace;background-color: #f0f8ff;border: 1px dotted black;border-radius: 0.25em;box-sizing: border-box;margin-bottom: 0.5em;}#sk-container-id-1 div.sk-estimator:hover {background-color: #d4ebff;}#sk-container-id-1 div.sk-parallel-item::after {content: \"\";width: 100%;border-bottom: 1px solid gray;flex-grow: 1;}#sk-container-id-1 div.sk-label:hover label.sk-toggleable__label {background-color: #d4ebff;}#sk-container-id-1 div.sk-serial::before {content: \"\";position: absolute;border-left: 1px solid gray;box-sizing: border-box;top: 0;bottom: 0;left: 50%;z-index: 0;}#sk-container-id-1 div.sk-serial {display: flex;flex-direction: column;align-items: center;background-color: white;padding-right: 0.2em;padding-left: 0.2em;position: relative;}#sk-container-id-1 div.sk-item {position: relative;z-index: 1;}#sk-container-id-1 div.sk-parallel {display: flex;align-items: stretch;justify-content: center;background-color: white;position: relative;}#sk-container-id-1 div.sk-item::before, #sk-container-id-1 div.sk-parallel-item::before {content: \"\";position: absolute;border-left: 1px solid gray;box-sizing: border-box;top: 0;bottom: 0;left: 50%;z-index: -1;}#sk-container-id-1 div.sk-parallel-item {display: flex;flex-direction: column;z-index: 1;position: relative;background-color: white;}#sk-container-id-1 div.sk-parallel-item:first-child::after {align-self: flex-end;width: 50%;}#sk-container-id-1 div.sk-parallel-item:last-child::after {align-self: flex-start;width: 50%;}#sk-container-id-1 div.sk-parallel-item:only-child::after {width: 0;}#sk-container-id-1 div.sk-dashed-wrapped {border: 1px dashed gray;margin: 0 0.4em 0.5em 0.4em;box-sizing: border-box;padding-bottom: 0.4em;background-color: white;}#sk-container-id-1 div.sk-label label {font-family: monospace;font-weight: bold;display: inline-block;line-height: 1.2em;}#sk-container-id-1 div.sk-label-container {text-align: center;}#sk-container-id-1 div.sk-container {/* jupyter's `normalize.less` sets `[hidden] { display: none; }` but bootstrap.min.css set `[hidden] { display: none !important; }` so we also need the `!important` here to be able to override the default hidden behavior on the sphinx rendered scikit-learn.org. See: https://github.com/scikit-learn/scikit-learn/issues/21755 */display: inline-block !important;position: relative;}#sk-container-id-1 div.sk-text-repr-fallback {display: none;}</style><div id=\"sk-container-id-1\" class=\"sk-top-container\"><div class=\"sk-text-repr-fallback\"><pre>KNeighborsClassifier()</pre><b>In a Jupyter environment, please rerun this cell to show the HTML representation or trust the notebook. <br />On GitHub, the HTML representation is unable to render, please try loading this page with nbviewer.org.</b></div><div class=\"sk-container\" hidden><div class=\"sk-item\"><div class=\"sk-estimator sk-toggleable\"><input class=\"sk-toggleable__control sk-hidden--visually\" id=\"sk-estimator-id-1\" type=\"checkbox\" checked><label for=\"sk-estimator-id-1\" class=\"sk-toggleable__label sk-toggleable__label-arrow\">KNeighborsClassifier</label><div class=\"sk-toggleable__content\"><pre>KNeighborsClassifier()</pre></div></div></div></div></div>"
      ],
      "text/plain": [
       "KNeighborsClassifier()"
      ]
     },
     "execution_count": 9,
     "metadata": {},
     "output_type": "execute_result"
    }
   ],
   "source": [
    "knn = KNeighborsClassifier(n_neighbors=5)  # выберем 5 ближайших соседей\n",
    "knn.fit(X_train_scaled, Y_train)"
   ]
  },
  {
   "cell_type": "markdown",
   "id": "6cc9a819",
   "metadata": {},
   "source": [
    "###### Прогнозирование на тестовом наборе данных"
   ]
  },
  {
   "cell_type": "code",
   "execution_count": 10,
   "id": "08ab947d",
   "metadata": {},
   "outputs": [],
   "source": [
    "Y_pred = knn.predict(X_test_scaled)"
   ]
  },
  {
   "cell_type": "markdown",
   "id": "070a8fcf",
   "metadata": {},
   "source": [
    "###### Оценка точности модели"
   ]
  },
  {
   "cell_type": "code",
   "execution_count": 11,
   "id": "b0b23c26",
   "metadata": {},
   "outputs": [
    {
     "name": "stdout",
     "output_type": "stream",
     "text": [
      "Точность: 0.9940909090909091\n"
     ]
    }
   ],
   "source": [
    "print( \"Точность:\", accuracy_score(Y_test, Y_pred) )"
   ]
  },
  {
   "cell_type": "markdown",
   "id": "befaa0f0",
   "metadata": {},
   "source": [
    "###### Вывод отчета о классификации"
   ]
  },
  {
   "cell_type": "code",
   "execution_count": 12,
   "id": "dd3ef035",
   "metadata": {
    "scrolled": true
   },
   "outputs": [
    {
     "name": "stdout",
     "output_type": "stream",
     "text": [
      "              precision    recall  f1-score   support\n",
      "\n",
      "          No       0.98      1.00      0.99       650\n",
      "         Yes       1.00      0.99      1.00      1550\n",
      "\n",
      "    accuracy                           0.99      2200\n",
      "   macro avg       0.99      1.00      0.99      2200\n",
      "weighted avg       0.99      0.99      0.99      2200\n",
      "\n"
     ]
    }
   ],
   "source": [
    "print( classification_report(Y_test, Y_pred) )"
   ]
  },
  {
   "cell_type": "markdown",
   "id": "52a24afd",
   "metadata": {},
   "source": [
    "###### Precision (точность): __TP / (TP + FP)__\n",
    "Это показатель того, как много из предсказанных положительных случаев действительно являются положительными. \n",
    "\n",
    "###### Recall (полнота): __TP / (TP + FN)__\n",
    "Это показатель того, как много реальных положительных случаев модель предсказала правильно.\n",
    "\n",
    "###### F1-score: __2 * (precision * recall) / (precision + recall)__\n",
    "Это гармоническое среднее между precision и recall. Это показатель общей производительности классификатора. \n",
    "\n",
    "###### Support: \n",
    "Это количество фактических вхождений каждого класса в тестовом наборе данных\n",
    "___\n",
    "###### Accuracy (точность) __(TP + TN) / (TP + TN + FP + FN)__ \n",
    "Это процент правильно классифицированных случаев. \n",
    "\n",
    "- TP - количество верно предсказанных положительных случаев \n",
    "- TN - количество верно предсказанных отрицательных случаев \n",
    "- FP - количество ложно предсказанных положительных случаев \n",
    "- FN - количество ложно предсказанных отрицательных случаев \n",
    "\n",
    "###### Macro avg: \n",
    "Средние значения __precision__, __recall__ и __f1-score__ по всем классам без учета их дисбаланса.\n",
    "\n",
    "###### Weighted avg: \n",
    "Средние значения __precision__, __recall__ и __f1-score__ по всем классам, учитывая их дисбаланс по количеству."
   ]
  }
 ],
 "metadata": {
  "kernelspec": {
   "display_name": "Python 3 (ipykernel)",
   "language": "python",
   "name": "python3"
  },
  "language_info": {
   "codemirror_mode": {
    "name": "ipython",
    "version": 3
   },
   "file_extension": ".py",
   "mimetype": "text/x-python",
   "name": "python",
   "nbconvert_exporter": "python",
   "pygments_lexer": "ipython3",
   "version": "3.11.4"
  }
 },
 "nbformat": 4,
 "nbformat_minor": 5
}
